{
 "nbformat": 4,
 "nbformat_minor": 0,
 "metadata": {
  "colab": {
   "name": "clean_image.ipynb",
   "provenance": [],
   "collapsed_sections": []
  },
  "kernelspec": {
   "name": "python3",
   "display_name": "Python 3"
  },
  "language_info": {
   "name": "python"
  },
  "gpuClass": "standard",
  "accelerator": "GPU"
 },
 "cells": [
  {
   "cell_type": "code",
   "source": [
    "!nvidia-smi"
   ],
   "metadata": {
    "colab": {
     "base_uri": "https://localhost:8080/"
    },
    "id": "G5_IUWBDWgb5",
    "outputId": "5d68021c-c530-47a7-da9d-da392d9f5ae4"
   },
   "execution_count": null,
   "outputs": [
    {
     "output_type": "stream",
     "name": "stdout",
     "text": [
      "Tue Aug 23 10:57:59 2022       \n",
      "+-----------------------------------------------------------------------------+\n",
      "| NVIDIA-SMI 460.32.03    Driver Version: 460.32.03    CUDA Version: 11.2     |\n",
      "|-------------------------------+----------------------+----------------------+\n",
      "| GPU  Name        Persistence-M| Bus-Id        Disp.A | Volatile Uncorr. ECC |\n",
      "| Fan  Temp  Perf  Pwr:Usage/Cap|         Memory-Usage | GPU-Util  Compute M. |\n",
      "|                               |                      |               MIG M. |\n",
      "|===============================+======================+======================|\n",
      "|   0  Tesla T4            Off  | 00000000:00:04.0 Off |                    0 |\n",
      "| N/A   48C    P8    10W /  70W |      0MiB / 15109MiB |      0%      Default |\n",
      "|                               |                      |                  N/A |\n",
      "+-------------------------------+----------------------+----------------------+\n",
      "                                                                               \n",
      "+-----------------------------------------------------------------------------+\n",
      "| Processes:                                                                  |\n",
      "|  GPU   GI   CI        PID   Type   Process name                  GPU Memory |\n",
      "|        ID   ID                                                   Usage      |\n",
      "|=============================================================================|\n",
      "|  No running processes found                                                 |\n",
      "+-----------------------------------------------------------------------------+\n"
     ]
    }
   ]
  },
  {
   "cell_type": "code",
   "execution_count": null,
   "metadata": {
    "colab": {
     "base_uri": "https://localhost:8080/"
    },
    "id": "yDf8TBTSwWVv",
    "outputId": "8e293da1-e1dd-40f8-bce8-48045e688add"
   },
   "outputs": [
    {
     "output_type": "stream",
     "name": "stdout",
     "text": [
      "/content/drive/MyDrive/Datasets\n"
     ]
    }
   ],
   "source": [
    "%cd /content/drive/MyDrive/Datasets"
   ]
  },
  {
   "cell_type": "code",
   "source": [
    "!ls"
   ],
   "metadata": {
    "colab": {
     "base_uri": "https://localhost:8080/"
    },
    "id": "Ubaxfw8lwyFi",
    "outputId": "90d640c4-bc1f-43f5-8ea7-0543f8116cee"
   },
   "execution_count": null,
   "outputs": [
    {
     "output_type": "stream",
     "name": "stdout",
     "text": [
      "tomato.zip\n"
     ]
    }
   ]
  },
  {
   "cell_type": "code",
   "source": [
    "!apt-get install -y zip unzip"
   ],
   "metadata": {
    "colab": {
     "base_uri": "https://localhost:8080/"
    },
    "id": "ym0WjProwzwC",
    "outputId": "40c43d27-3e09-491a-c8f4-23245510f3a8"
   },
   "execution_count": null,
   "outputs": [
    {
     "output_type": "stream",
     "name": "stdout",
     "text": [
      "Reading package lists... Done\n",
      "Building dependency tree       \n",
      "Reading state information... Done\n",
      "zip is already the newest version (3.0-11build1).\n",
      "unzip is already the newest version (6.0-21ubuntu1.1).\n",
      "The following package was automatically installed and is no longer required:\n",
      "  libnvidia-common-460\n",
      "Use 'apt autoremove' to remove it.\n",
      "0 upgraded, 0 newly installed, 0 to remove and 20 not upgraded.\n"
     ]
    }
   ]
  },
  {
   "cell_type": "code",
   "source": [
    "%cd ~/"
   ],
   "metadata": {
    "colab": {
     "base_uri": "https://localhost:8080/"
    },
    "id": "viSYSCz8WvcZ",
    "outputId": "2b6e8790-4512-44b2-fe2c-2846d68cd0f8"
   },
   "execution_count": null,
   "outputs": [
    {
     "output_type": "stream",
     "name": "stdout",
     "text": [
      "/root\n"
     ]
    }
   ]
  },
  {
   "cell_type": "code",
   "source": [
    "!mkdir WORKSPACE"
   ],
   "metadata": {
    "id": "u7rFzCfnW9qB"
   },
   "execution_count": null,
   "outputs": []
  },
  {
   "cell_type": "code",
   "source": [
    "!cp /content/drive/MyDrive/Datasets/tomato.zip WORKSPACE/"
   ],
   "metadata": {
    "id": "GJeDypM3XBKw"
   },
   "execution_count": null,
   "outputs": []
  },
  {
   "cell_type": "code",
   "source": [
    "%cd WORKSPACE\n",
    "!ls"
   ],
   "metadata": {
    "colab": {
     "base_uri": "https://localhost:8080/"
    },
    "id": "tfJ_GZntz65F",
    "outputId": "ef8db7c8-3a86-4183-a47a-ffaf223250cd"
   },
   "execution_count": null,
   "outputs": [
    {
     "output_type": "stream",
     "name": "stdout",
     "text": [
      "/root/WORKSPACE\n",
      "tomato.zip\n"
     ]
    }
   ]
  },
  {
   "cell_type": "code",
   "source": [
    "!unzip tomato.zip"
   ],
   "metadata": {
    "id": "YM9MQtFPw5Mv"
   },
   "execution_count": null,
   "outputs": []
  },
  {
   "cell_type": "code",
   "source": [
    "%cd /content/drive/MyDrive/Colab\\ Notebooks/image-seg/image-background-remove-tool"
   ],
   "metadata": {
    "colab": {
     "base_uri": "https://localhost:8080/"
    },
    "id": "eleyz-oRXddd",
    "outputId": "a2c72319-e855-4f9f-87ab-271b67c799bb"
   },
   "execution_count": null,
   "outputs": [
    {
     "output_type": "stream",
     "name": "stdout",
     "text": [
      "/content/drive/MyDrive/Colab Notebooks/image-seg/image-background-remove-tool\n"
     ]
    }
   ]
  },
  {
   "cell_type": "code",
   "source": [
    "!ls"
   ],
   "metadata": {
    "colab": {
     "base_uri": "https://localhost:8080/"
    },
    "id": "hlJZdb_ZX1_f",
    "outputId": "3bfa4a03-f560-4f4c-bf2c-3ea561c7f061"
   },
   "execution_count": null,
   "outputs": [
    {
     "output_type": "stream",
     "name": "stdout",
     "text": [
      "carvekit\t\t\t     docker-compose.cuda.yml  results\n",
      "conftest.py\t\t\t     Dockerfile.cpu\t      results_crp\n",
      "crop_image\t\t\t     Dockerfile.cuda\t      results_neo\n",
      "demo_crop_image.py\t\t     docs\t\t      results_neo_2\n",
      "demo_multi_process.py\t\t     leaf\t\t      results_neo_3\n",
      "demo_multi_thread.py\t\t     LICENSE\t\t      results_old\n",
      "demo_multi_thread_tuple_limitles.py  my_leaf.jpg\t      setup.py\n",
      "demo_multi_thread_tuple.py\t     README.md\t\t      tests\n",
      "demo.py\t\t\t\t     requirements_test.txt\n",
      "docker-compose.cpu.yml\t\t     requirements.txt\n"
     ]
    }
   ]
  },
  {
   "cell_type": "markdown",
   "source": [
    "### **Image Segmentation**"
   ],
   "metadata": {
    "id": "SbWjY5ciX_GG"
   }
  },
  {
   "cell_type": "code",
   "source": [
    "import os, time, torch\n",
    "from multiprocessing.pool import ThreadPool\n",
    "from carvekit.api.high import HiInterface"
   ],
   "metadata": {
    "id": "F5wlkneRYEGY"
   },
   "execution_count": null,
   "outputs": []
  },
  {
   "cell_type": "code",
   "source": [
    "srcPath = \"/root/WORKSPACE/tomato/combined_train\"\n",
    "DEST_PATH = \"/root/WORKSPACE/tomamto_op/combined_train\""
   ],
   "metadata": {
    "id": "JzgMEpijYLKe"
   },
   "execution_count": null,
   "outputs": []
  },
  {
   "cell_type": "code",
   "source": [
    "paths = os.listdir(srcPath)  # returns list\n",
    "full_paths = list(map(lambda path: os.path.join(\"./\", srcPath, path), paths))\n",
    "filter_path = [i for i in full_paths if i.endswith('.jpg') or i.endswith('.png') or i.endswith('jpeg')]\n",
    "\n",
    "# filter_path = filter_path[0: 10]  # select first 10 item"
   ],
   "metadata": {
    "id": "OUVqDj99Ymtl"
   },
   "execution_count": null,
   "outputs": []
  },
  {
   "cell_type": "code",
   "source": [
    "os.makedirs(DEST_PATH, exist_ok=True)"
   ],
   "metadata": {
    "id": "xwPBHZKhY0n3"
   },
   "execution_count": null,
   "outputs": []
  },
  {
   "cell_type": "code",
   "source": [
    "interface = HiInterface(batch_size_seg=5, batch_size_matting=1,\n",
    "                        device='cuda' if torch.cuda.is_available() else 'cpu',\n",
    "                        seg_mask_size=320, matting_mask_size=1024)\n"
   ],
   "metadata": {
    "colab": {
     "base_uri": "https://localhost:8080/"
    },
    "id": "hCvU4ispY4jt",
    "outputId": "43ff88ad-a428-46a2-b187-aed0b6542bc5"
   },
   "execution_count": null,
   "outputs": [
    {
     "output_type": "stream",
     "name": "stderr",
     "text": [
      "Downloading u2net.pth model: 1377273it [00:16, 81115.67it/s]\n",
      "Downloading fba_matting.pth model: 1084688it [00:15, 71756.09it/s]\n"
     ]
    }
   ]
  },
  {
   "cell_type": "code",
   "source": [
    "print(f\"GPU available: {torch.cuda.is_available()}\")"
   ],
   "metadata": {
    "colab": {
     "base_uri": "https://localhost:8080/"
    },
    "id": "uLKSUbVTY8tU",
    "outputId": "dd3f7b27-9048-4883-9ed7-2f1068aa945b"
   },
   "execution_count": null,
   "outputs": [
    {
     "output_type": "stream",
     "name": "stdout",
     "text": [
      "GPU available: True\n"
     ]
    }
   ]
  },
  {
   "cell_type": "code",
   "source": [
    "from PIL import ImageFilter\n",
    "from PIL import Image\n",
    "\n",
    "def find_top_pixel(image: Image):\n",
    "    for y in range(image.height):\n",
    "        for x in range(image.width):\n",
    "            r, g, b, a = image.getpixel((x, y))\n",
    "            # print(f\"x: {x:3}, y: {y:3} -> {(r, g, b, a)}\")\n",
    "            if a == 255:\n",
    "                return y\n",
    "    return -1\n",
    "\n",
    "\n",
    "def find_bottom_pixel(image: Image):\n",
    "    for y in range(image.height - 1, -1, -1):\n",
    "        for x in range(image.width):\n",
    "            r, g, b, a = image.getpixel((x, y))\n",
    "            # print(f\"x: {x:3}, y: {y:3} -> {(r, g, b, a)}\")\n",
    "            if a == 255:\n",
    "                return y\n",
    "    return -1\n",
    "\n",
    "\n",
    "def find_left_pixel(image: Image):\n",
    "    for x in range(image.width):\n",
    "        for y in range(image.height):\n",
    "            r, g, b, a = image.getpixel((x, y))\n",
    "            # print(f\"x: {x:3}, y: {y:3} -> {(r, g, b, a)}\")\n",
    "            if a == 255:\n",
    "                return x\n",
    "    return -1\n",
    "\n",
    "\n",
    "def find_right_pixel(image: Image):\n",
    "    for x in range(image.width - 1, -1, -1):\n",
    "        for y in range(image.height):\n",
    "            r, g, b, a = image.getpixel((x, y))\n",
    "            # print(f\"x: {x:3}, y: {y:3} -> {(r, g, b, a)}\")\n",
    "            if a == 255:\n",
    "                return x\n",
    "    return -1\n",
    "\n",
    "\n",
    "def find_crop_edges(image: Image):\n",
    "    left = find_left_pixel(image)\n",
    "    top = find_top_pixel(image)\n",
    "    right = find_right_pixel(image)\n",
    "    bottom = find_bottom_pixel(image)\n",
    "    return left, top, right, bottom\n",
    "\n",
    "\n",
    "def crop_object_and_strech(image: Image) -> Image:\n",
    "    og_size = image.size\n",
    "    filtered_img = image.filter(ImageFilter.MedianFilter)\n",
    "    crop_edge = find_crop_edges(filtered_img)\n",
    "    return image.crop(crop_edge).resize(og_size)\n"
   ],
   "metadata": {
    "id": "9PZi40gHZUwq"
   },
   "execution_count": null,
   "outputs": []
  },
  {
   "cell_type": "code",
   "source": [
    "def get_name_path(img_path: str) -> str:\n",
    "    return img_path.split('/')[-1].split(\".\")[0]\n",
    "\n",
    "\n",
    "def image_process(img_path):\n",
    "    start_t = time.perf_counter()\n",
    "    img_name = get_name_path(img_path)\n",
    "    print(f\"\\n'now working on image at {img_name}'\")\n",
    "    image = interface([img_path])[0]\n",
    "    image = crop_object_and_strech(image)\n",
    "    background = Image.new('RGBA', image.size, (128, 128, 128))\n",
    "    image = Image.alpha_composite(background, image)\n",
    "    f_name = f\"{img_name}_crp_strc.jpg\"\n",
    "    dest = os.path.join(DEST_PATH, f_name)\n",
    "    image.convert(\"RGB\").save(dest, 'JPEG', quality=80)\n",
    "    end_t = time.perf_counter()\n",
    "    return f_name, end_t - start_t"
   ],
   "metadata": {
    "id": "f1bX7ep_ZFVa"
   },
   "execution_count": null,
   "outputs": []
  },
  {
   "cell_type": "code",
   "source": [
    "start_g_t = time.perf_counter()\n",
    "with ThreadPool() as pool:\n",
    "    results = pool.imap_unordered(image_process, filter_path)\n",
    "    for f_name, duration in results:\n",
    "        print(f\"{f_name} completed in {duration:.2f} seconds\")\n",
    "end_g_t = time.perf_counter()\n",
    "g_duration = end_g_t - start_g_t\n",
    "print(f\"process done in {g_duration:.2f} seconds\")"
   ],
   "metadata": {
    "colab": {
     "base_uri": "https://localhost:8080/"
    },
    "id": "8xfJnRxiZKwz",
    "outputId": "63947e8c-1fbd-4ed4-d402-12e8023fbbd7"
   },
   "execution_count": null,
   "outputs": [
    {
     "output_type": "stream",
     "name": "stdout",
     "text": [
      "\n",
      "'now working on image at AppleCedarRust1'\n",
      "\n",
      "'now working on image at TomatoHealthy4'\n",
      "\n",
      "'now working on image at PotatoHealthy1'AppleCedarRust1_crp_strc.jpg completed in 0.70 seconds\n",
      "\n",
      "\n",
      "'now working on image at TomatoEarlyBlight2'TomatoHealthy4_crp_strc.jpg completed in 0.70 seconds\n",
      "\n",
      "\n",
      "'now working on image at PotatoEarlyBlight1'PotatoHealthy1_crp_strc.jpg completed in 0.57 seconds\n",
      "\n",
      "\n",
      "'now working on image at TomatoEarlyBlight4'\n",
      "TomatoEarlyBlight2_crp_strc.jpg completed in 0.61 seconds\n",
      "\n",
      "'now working on image at PotatoEarlyBlight3'TomatoEarlyBlight4_crp_strc.jpg completed in 0.59 seconds\n",
      "\n",
      "\n",
      "'now working on image at PotatoEarlyBlight5'PotatoEarlyBlight1_crp_strc.jpg completed in 0.63 seconds\n",
      "\n",
      "\n",
      "'now working on image at AppleCedarRust4'PotatoEarlyBlight3_crp_strc.jpg completed in 0.54 seconds\n",
      "\n",
      "\n",
      "'now working on image at PotatoEarlyBlight2'PotatoEarlyBlight5_crp_strc.jpg completed in 0.57 seconds\n",
      "\n",
      "\n",
      "'now working on image at TomatoHealthy1'AppleCedarRust4_crp_strc.jpg completed in 0.53 seconds\n",
      "\n",
      "\n",
      "'now working on image at TomatoEarlyBlight1'PotatoEarlyBlight2_crp_strc.jpg completed in 0.57 seconds\n",
      "\n",
      "\n",
      "'now working on image at PotatoHealthy2'TomatoHealthy1_crp_strc.jpg completed in 0.58 seconds\n",
      "\n",
      "\n",
      "'now working on image at PotatoEarlyBlight4'\n",
      "TomatoEarlyBlight1_crp_strc.jpg completed in 0.53 seconds\n",
      "\n",
      "'now working on image at CornCommonRust2'PotatoHealthy2_crp_strc.jpg completed in 0.55 seconds\n",
      "\n",
      "\n",
      "'now working on image at TomatoHealthy2'PotatoEarlyBlight4_crp_strc.jpg completed in 0.56 seconds\n",
      "\n",
      "\n",
      "'now working on image at TomatoYellowCurlVirus1'CornCommonRust2_crp_strc.jpg completed in 0.54 seconds\n",
      "\n",
      "\n",
      "'now working on image at AppleCedarRust2'TomatoHealthy2_crp_strc.jpg completed in 0.57 seconds\n",
      "\n",
      "\n",
      "'now working on image at TomatoEarlyBlight3'TomatoYellowCurlVirus1_crp_strc.jpg completed in 0.54 seconds\n",
      "\n",
      "\n",
      "'now working on image at AppleScab1'AppleCedarRust2_crp_strc.jpg completed in 0.57 seconds\n",
      "\n",
      "\n",
      "'now working on image at TomatoYellowCurlVirus5'TomatoEarlyBlight3_crp_strc.jpg completed in 0.51 seconds\n",
      "\n",
      "\n",
      "'now working on image at AppleScab2'AppleScab1_crp_strc.jpg completed in 0.51 seconds\n",
      "\n",
      "\n",
      "'now working on image at TomatoYellowCurlVirus6'\n",
      "TomatoYellowCurlVirus5_crp_strc.jpg completed in 0.52 seconds\n",
      "\n",
      "'now working on image at CornCommonRust1'AppleScab2_crp_strc.jpg completed in 0.53 seconds\n",
      "\n",
      "\n",
      "'now working on image at TomatoYellowCurlVirus2'TomatoYellowCurlVirus6_crp_strc.jpg completed in 0.46 seconds\n",
      "\n",
      "\n",
      "'now working on image at TomatoEarlyBlight5'CornCommonRust1_crp_strc.jpg completed in 0.50 seconds\n",
      "\n",
      "\n",
      "'now working on image at CornCommonRust3'\n",
      "TomatoYellowCurlVirus2_crp_strc.jpg completed in 0.47 seconds\n",
      "\n",
      "'now working on image at TomatoEarlyBlight6'\n",
      "TomatoEarlyBlight5_crp_strc.jpg completed in 0.51 seconds\n",
      "\n",
      "'now working on image at TomatoYellowCurlVirus3'CornCommonRust3_crp_strc.jpg completed in 0.46 seconds\n",
      "\n",
      "\n",
      "'now working on image at AppleScab3'TomatoEarlyBlight6_crp_strc.jpg completed in 0.49 seconds\n",
      "\n",
      "\n",
      "'now working on image at TomatoYellowCurlVirus4'TomatoYellowCurlVirus3_crp_strc.jpg completed in 0.50 seconds\n",
      "\n",
      "\n",
      "'now working on image at TomatoHealthy3'\n",
      "AppleScab3_crp_strc.jpg completed in 0.51 seconds\n",
      "\n",
      "'now working on image at AppleCedarRust3'TomatoYellowCurlVirus4_crp_strc.jpg completed in 0.45 seconds\n",
      "\n",
      "TomatoHealthy3_crp_strc.jpg completed in 0.46 seconds\n",
      "AppleCedarRust3_crp_strc.jpg completed in 0.38 seconds\n",
      "process done in 8.94 seconds\n"
     ]
    }
   ]
  },
  {
   "cell_type": "code",
   "source": [
    "!zip -r test.zip /root/WORKSPACE/tomamto_op/test"
   ],
   "metadata": {
    "colab": {
     "base_uri": "https://localhost:8080/"
    },
    "id": "dJv2dkdbfRTu",
    "outputId": "8bdb41f6-0276-4fdc-ca04-26eb05b26fda"
   },
   "execution_count": null,
   "outputs": [
    {
     "output_type": "stream",
     "name": "stdout",
     "text": [
      "  adding: root/WORKSPACE/tomamto_op/test/ (stored 0%)\n",
      "  adding: root/WORKSPACE/tomamto_op/test/TomatoYellowCurlVirus3_crp_strc.jpg (deflated 6%)\n",
      "  adding: root/WORKSPACE/tomamto_op/test/TomatoHealthy4_crp_strc.jpg (deflated 2%)\n",
      "  adding: root/WORKSPACE/tomamto_op/test/PotatoEarlyBlight1_crp_strc.jpg (deflated 1%)\n",
      "  adding: root/WORKSPACE/tomamto_op/test/PotatoEarlyBlight4_crp_strc.jpg (deflated 2%)\n",
      "  adding: root/WORKSPACE/tomamto_op/test/AppleScab3_crp_strc.jpg (deflated 1%)\n",
      "  adding: root/WORKSPACE/tomamto_op/test/TomatoHealthy2_crp_strc.jpg (deflated 3%)\n",
      "  adding: root/WORKSPACE/tomamto_op/test/TomatoYellowCurlVirus2_crp_strc.jpg (deflated 3%)\n",
      "  adding: root/WORKSPACE/tomamto_op/test/TomatoEarlyBlight3_crp_strc.jpg (deflated 3%)\n",
      "  adding: root/WORKSPACE/tomamto_op/test/TomatoHealthy3_crp_strc.jpg (deflated 1%)\n",
      "  adding: root/WORKSPACE/tomamto_op/test/TomatoYellowCurlVirus4_crp_strc.jpg (deflated 2%)\n",
      "  adding: root/WORKSPACE/tomamto_op/test/AppleScab2_crp_strc.jpg (deflated 3%)\n",
      "  adding: root/WORKSPACE/tomamto_op/test/AppleCedarRust4_crp_strc.jpg (deflated 2%)\n",
      "  adding: root/WORKSPACE/tomamto_op/test/TomatoEarlyBlight1_crp_strc.jpg (deflated 5%)\n",
      "  adding: root/WORKSPACE/tomamto_op/test/PotatoHealthy2_crp_strc.jpg (deflated 2%)\n",
      "  adding: root/WORKSPACE/tomamto_op/test/TomatoEarlyBlight4_crp_strc.jpg (deflated 3%)\n",
      "  adding: root/WORKSPACE/tomamto_op/test/TomatoYellowCurlVirus5_crp_strc.jpg (deflated 3%)\n",
      "  adding: root/WORKSPACE/tomamto_op/test/TomatoYellowCurlVirus1_crp_strc.jpg (deflated 2%)\n",
      "  adding: root/WORKSPACE/tomamto_op/test/PotatoHealthy1_crp_strc.jpg (deflated 1%)\n",
      "  adding: root/WORKSPACE/tomamto_op/test/PotatoEarlyBlight2_crp_strc.jpg (deflated 1%)\n",
      "  adding: root/WORKSPACE/tomamto_op/test/CornCommonRust3_crp_strc.jpg (deflated 5%)\n",
      "  adding: root/WORKSPACE/tomamto_op/test/AppleCedarRust2_crp_strc.jpg (deflated 4%)\n",
      "  adding: root/WORKSPACE/tomamto_op/test/AppleCedarRust1_crp_strc.jpg (deflated 2%)\n",
      "  adding: root/WORKSPACE/tomamto_op/test/AppleCedarRust3_crp_strc.jpg (deflated 8%)\n",
      "  adding: root/WORKSPACE/tomamto_op/test/TomatoYellowCurlVirus6_crp_strc.jpg (deflated 3%)\n",
      "  adding: root/WORKSPACE/tomamto_op/test/CornCommonRust2_crp_strc.jpg (deflated 1%)\n",
      "  adding: root/WORKSPACE/tomamto_op/test/TomatoEarlyBlight2_crp_strc.jpg (deflated 3%)\n",
      "  adding: root/WORKSPACE/tomamto_op/test/PotatoEarlyBlight3_crp_strc.jpg (deflated 2%)\n",
      "  adding: root/WORKSPACE/tomamto_op/test/TomatoEarlyBlight6_crp_strc.jpg (deflated 2%)\n",
      "  adding: root/WORKSPACE/tomamto_op/test/TomatoHealthy1_crp_strc.jpg (deflated 2%)\n",
      "  adding: root/WORKSPACE/tomamto_op/test/AppleScab1_crp_strc.jpg (deflated 3%)\n",
      "  adding: root/WORKSPACE/tomamto_op/test/TomatoEarlyBlight5_crp_strc.jpg (deflated 2%)\n",
      "  adding: root/WORKSPACE/tomamto_op/test/CornCommonRust1_crp_strc.jpg (deflated 4%)\n",
      "  adding: root/WORKSPACE/tomamto_op/test/PotatoEarlyBlight5_crp_strc.jpg (deflated 1%)\n"
     ]
    }
   ]
  }
 ]
}