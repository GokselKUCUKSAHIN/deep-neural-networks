{
  "nbformat": 4,
  "nbformat_minor": 0,
  "metadata": {
    "colab": {
      "provenance": []
    },
    "kernelspec": {
      "name": "python3",
      "display_name": "Python 3"
    },
    "language_info": {
      "name": "python"
    },
    "accelerator": "GPU",
    "gpuClass": "standard"
  },
  "cells": [
    {
      "cell_type": "markdown",
      "source": [
        "# Google Drive Connection"
      ],
      "metadata": {
        "id": "XUcgWj722Cqm"
      }
    },
    {
      "cell_type": "code",
      "source": [
        "from google.colab import drive\n",
        "drive.mount('/content/drive')"
      ],
      "metadata": {
        "id": "R5Vqkc4WsyPh",
        "colab": {
          "base_uri": "https://localhost:8080/",
          "height": 0
        },
        "outputId": "daa981c8-89ca-4881-dde3-1679e0594ca1"
      },
      "execution_count": 1,
      "outputs": [
        {
          "output_type": "stream",
          "name": "stdout",
          "text": [
            "Mounted at /content/drive\n"
          ]
        }
      ]
    },
    {
      "cell_type": "markdown",
      "source": [
        "# Fetch Dataset from Google Drive"
      ],
      "metadata": {
        "id": "BfaeRTtrs6XM"
      }
    },
    {
      "cell_type": "markdown",
      "source": [
        "### Move datasets to Colab (VM) workspace from Google Drive"
      ],
      "metadata": {
        "id": "hClEEgyB0vYM"
      }
    },
    {
      "cell_type": "code",
      "source": [
        "!cp /content/drive/MyDrive/ece528/dataset_np.npy /content/dataset_np.npy\n",
        "!cp /content/drive/MyDrive/ece528/lidar_dataset.zip /content/lidar_dataset.zip"
      ],
      "metadata": {
        "id": "1v4pbSOls2m6"
      },
      "execution_count": 2,
      "outputs": []
    },
    {
      "cell_type": "markdown",
      "source": [
        "## Unzip Lidar Image Dataset"
      ],
      "metadata": {
        "id": "av_6vw0d0h8n"
      }
    },
    {
      "cell_type": "code",
      "source": [
        "!unzip /content/lidar_dataset.zip"
      ],
      "metadata": {
        "id": "E6hHay4S0f8h"
      },
      "execution_count": null,
      "outputs": []
    },
    {
      "cell_type": "code",
      "source": [
        "# Change Directory to Colab Workspace\n",
        "%cd /content/"
      ],
      "metadata": {
        "id": "FZWFvnTts7BP",
        "colab": {
          "base_uri": "https://localhost:8080/",
          "height": 0
        },
        "outputId": "3e966138-6ef1-4859-98a7-e872db858639"
      },
      "execution_count": 4,
      "outputs": [
        {
          "output_type": "stream",
          "name": "stdout",
          "text": [
            "/content\n"
          ]
        }
      ]
    },
    {
      "cell_type": "markdown",
      "source": [
        "# Code\n"
      ],
      "metadata": {
        "id": "PLO63ewus-zC"
      }
    },
    {
      "cell_type": "markdown",
      "source": [
        "## Import Libraries"
      ],
      "metadata": {
        "id": "o5wIdM0PtAHz"
      }
    },
    {
      "cell_type": "code",
      "source": [
        "import os\n",
        "import numpy as np\n",
        "import pandas as pd\n",
        "import scipy.io as scipyio\n",
        "import matplotlib.pyplot as plt\n",
        "from scipy.io import loadmat\n",
        "import PIL\n",
        "from PIL import Image\n",
        "import pathlib\n",
        "import tensorflow as tf\n",
        "from tensorflow.keras.optimizers import Adam\n",
        "from tensorflow.keras.models import Sequential\n",
        "from tensorflow.keras import layers\n",
        "from keras.layers import Dense, Flatten\n",
        "from keras import utils"
      ],
      "metadata": {
        "id": "KJDAzLnWtC3t"
      },
      "execution_count": 5,
      "outputs": []
    },
    {
      "cell_type": "markdown",
      "source": [
        "## Path Variables"
      ],
      "metadata": {
        "id": "4HJcspccvfOl"
      }
    },
    {
      "cell_type": "code",
      "source": [
        "dataset_path = r\"/content/dataset_np.npy\"\n",
        "data_dir = r\"/content/content/lidar_dataset\""
      ],
      "metadata": {
        "id": "d0BYK1VbtVTJ"
      },
      "execution_count": 6,
      "outputs": []
    },
    {
      "cell_type": "markdown",
      "source": [
        "## Load Dataset"
      ],
      "metadata": {
        "id": "yfT6bACYtFWg"
      }
    },
    {
      "cell_type": "code",
      "source": [
        "dataset = np.load(dataset_path, allow_pickle=True)"
      ],
      "metadata": {
        "id": "hWrcLzTFteXO"
      },
      "execution_count": 7,
      "outputs": []
    },
    {
      "cell_type": "code",
      "source": [
        "# dataset \n",
        "test, train, valid = dataset \n",
        "_, test_X, test_y = test \n",
        "_, train_X, train_y = train \n",
        "_, valid_X, valid_y = valid"
      ],
      "metadata": {
        "id": "KA-kYql9tiOt"
      },
      "execution_count": 8,
      "outputs": []
    },
    {
      "cell_type": "markdown",
      "source": [
        "## Convertion Functions"
      ],
      "metadata": {
        "id": "k1xKO3SrtmaV"
      }
    },
    {
      "cell_type": "markdown",
      "source": [
        "### Vector Convertions"
      ],
      "metadata": {
        "id": "NwQv9ug6t2_F"
      }
    },
    {
      "cell_type": "code",
      "source": [
        "def float_to_row(value):\n",
        "  result = []\n",
        "  limit = int(np.round((460 / 17) * value))\n",
        "  for _ in range(limit):\n",
        "    result.append([255, 255, 255])\n",
        "  for _ in range(460 - limit):\n",
        "    result.append([0, 0, 0])\n",
        "  return result\n",
        "\n",
        "def vector_to_image(arr):\n",
        "  result_matrix = []\n",
        "  for value in arr:\n",
        "    result_matrix.append(float_to_row(value))\n",
        "  return np.array(result_matrix)"
      ],
      "metadata": {
        "id": "ePP-O7sntl9w"
      },
      "execution_count": 9,
      "outputs": []
    },
    {
      "cell_type": "markdown",
      "source": [
        "#### Debug (Vector Convertions)"
      ],
      "metadata": {
        "id": "XYkahYCTt0ua"
      }
    },
    {
      "cell_type": "code",
      "source": [
        "y = 3.141592653589793238\n",
        "print(np.shape(float_to_row(y)))"
      ],
      "metadata": {
        "id": "Ucx9i8Wft81R",
        "colab": {
          "base_uri": "https://localhost:8080/",
          "height": 0
        },
        "outputId": "81f22945-bda6-43a2-8e62-12122fe3c3bc"
      },
      "execution_count": 10,
      "outputs": [
        {
          "output_type": "stream",
          "name": "stdout",
          "text": [
            "(460, 3)\n"
          ]
        }
      ]
    },
    {
      "cell_type": "code",
      "source": [
        "vector = train_X[42][:,0]"
      ],
      "metadata": {
        "id": "k7iDuorWt-Vu"
      },
      "execution_count": 11,
      "outputs": []
    },
    {
      "cell_type": "code",
      "source": [
        "img_arr = vector_to_image(vector)"
      ],
      "metadata": {
        "id": "iYp3Us81uArN"
      },
      "execution_count": 12,
      "outputs": []
    },
    {
      "cell_type": "code",
      "source": [
        "print(np.shape(img_arr))"
      ],
      "metadata": {
        "id": "L8Lc1A25uGYP",
        "colab": {
          "base_uri": "https://localhost:8080/",
          "height": 0
        },
        "outputId": "b2ae07ba-a062-43c1-aceb-f623beabba0f"
      },
      "execution_count": 13,
      "outputs": [
        {
          "output_type": "stream",
          "name": "stdout",
          "text": [
            "(460, 460, 3)\n"
          ]
        }
      ]
    },
    {
      "cell_type": "code",
      "source": [
        "x = np.arange(0, 460)\n",
        "plt.figure()\n",
        "plt.plot(x, vector)\n",
        "plt.show()"
      ],
      "metadata": {
        "id": "jPsK4oQQuL9t",
        "colab": {
          "base_uri": "https://localhost:8080/",
          "height": 265
        },
        "outputId": "6eb711ac-ebc9-468e-b442-e57a18be0a00"
      },
      "execution_count": 14,
      "outputs": [
        {
          "output_type": "display_data",
          "data": {
            "text/plain": [
              "<Figure size 432x288 with 1 Axes>"
            ],
            "image/png": "[encoded data removed]"
          },
          "metadata": {
            "needs_background": "light"
          }
        }
      ]
    },
    {
      "cell_type": "code",
      "source": [
        "plt.figure()\n",
        "plt.imshow(img_arr, cmap='gray')\n",
        "plt.show()"
      ],
      "metadata": {
        "id": "8Ag4brp5uD7U",
        "colab": {
          "base_uri": "https://localhost:8080/",
          "height": 269
        },
        "outputId": "e408c1c6-bc74-4ada-ebdd-f07558b13030"
      },
      "execution_count": 15,
      "outputs": [
        {
          "output_type": "display_data",
          "data": {
            "text/plain": [
              "<Figure size 432x288 with 1 Axes>"
            ],
            "image/png": "[encoded data removed]"
          },
          "metadata": {
            "needs_background": "light"
          }
        }
      ]
    },
    {
      "cell_type": "markdown",
      "source": [
        "### Matrix Convertions"
      ],
      "metadata": {
        "id": "i2l1FaSSuTbL"
      }
    },
    {
      "cell_type": "code",
      "source": [
        "def matrix_to_img(matrix):\n",
        "  return Image.fromarray(matrix.astype('uint8'))\n",
        "\n",
        "def image_resize(img, target):\n",
        "  image = img.resize(target)\n",
        "  image = utils.img_to_array(image)\n",
        "  return matrix_to_img(image)\n",
        "\n",
        "def convert_matrix_to_img(matrix):\n",
        "   vector = matrix[:,0]\n",
        "   img_from_vector = vector_to_image(vector)\n",
        "   return matrix_to_img(img_from_vector)\n",
        "\n",
        "def convert_to_img(matricies, target=(256,256)):\n",
        "  result = []\n",
        "  for index in range(len(matricies)):\n",
        "      matrix = matricies[index]\n",
        "      img = convert_matrix_to_img(matrix)\n",
        "      img_rs = image_resize(img, target)\n",
        "      result.append(img_rs)\n",
        "  return result  \n",
        "\n",
        "def convert_and_save(X, y, save_dir, prefix, i):\n",
        "  img = convert_matrix_to_img(X)\n",
        "  img_rs = image_resize(img, target=(256,256))\n",
        "  save_path = create_dir(save_dir, get_index_name(y))\n",
        "  img_name = os.path.join(save_path, f\"img_{prefix}_{i}.png\")\n",
        "  img_rs.save(img_name)"
      ],
      "metadata": {
        "id": "BRjU_WNfuaRa"
      },
      "execution_count": 16,
      "outputs": []
    },
    {
      "cell_type": "markdown",
      "source": [
        "#### Debug (Matrix Convertions"
      ],
      "metadata": {
        "id": "4D4Sg4uYuspA"
      }
    },
    {
      "cell_type": "code",
      "source": [
        "train_X_sample = train_X[0:5]\n",
        "train_X_img = convert_to_img(train_X_sample)"
      ],
      "metadata": {
        "id": "PwnkBpIbuz-2"
      },
      "execution_count": 17,
      "outputs": []
    },
    {
      "cell_type": "code",
      "source": [
        "for img in train_X_img:\n",
        "  print(img.width, img.height)\n",
        "  plt.figure()\n",
        "  plt.imshow(img)\n",
        "  plt.show()"
      ],
      "metadata": {
        "id": "m0FBLgfIu1Vi",
        "colab": {
          "base_uri": "https://localhost:8080/",
          "height": 1364
        },
        "outputId": "f62ba58d-6bcc-4656-a66f-b0a3c69457a0"
      },
      "execution_count": 18,
      "outputs": [
        {
          "output_type": "stream",
          "name": "stdout",
          "text": [
            "256 256\n"
          ]
        },
        {
          "output_type": "display_data",
          "data": {
            "text/plain": [
              "<Figure size 432x288 with 1 Axes>"
            ],
            "image/png": "[encoded data removed]"
          },
          "metadata": {
            "needs_background": "light"
          }
        },
        {
          "output_type": "stream",
          "name": "stdout",
          "text": [
            "256 256\n"
          ]
        },
        {
          "output_type": "display_data",
          "data": {
            "text/plain": [
              "<Figure size 432x288 with 1 Axes>"
            ],
            "image/png": "[encoded data removed]"
          },
          "metadata": {
            "needs_background": "light"
          }
        },
        {
          "output_type": "stream",
          "name": "stdout",
          "text": [
            "256 256\n"
          ]
        },
        {
          "output_type": "display_data",
          "data": {
            "text/plain": [
              "<Figure size 432x288 with 1 Axes>"
            ],
            "image/png": "[encoded data removed]"
          },
          "metadata": {
            "needs_background": "light"
          }
        },
        {
          "output_type": "stream",
          "name": "stdout",
          "text": [
            "256 256\n"
          ]
        },
        {
          "output_type": "display_data",
          "data": {
            "text/plain": [
              "<Figure size 432x288 with 1 Axes>"
            ],
            "image/png": "[encoded data removed]"
          },
          "metadata": {
            "needs_background": "light"
          }
        },
        {
          "output_type": "stream",
          "name": "stdout",
          "text": [
            "256 256\n"
          ]
        },
        {
          "output_type": "display_data",
          "data": {
            "text/plain": [
              "<Figure size 432x288 with 1 Axes>"
            ],
            "image/png": "[encoded data removed]"
          },
          "metadata": {
            "needs_background": "light"
          }
        }
      ]
    },
    {
      "cell_type": "markdown",
      "source": [
        "## Deep Learning Model Training"
      ],
      "metadata": {
        "id": "eJ5Jykba3FJo"
      }
    },
    {
      "cell_type": "markdown",
      "source": [
        "### Check GPU type\n"
      ],
      "metadata": {
        "id": "XEnaC7cM3PlK"
      }
    },
    {
      "cell_type": "code",
      "source": [
        "!nvidia-smi"
      ],
      "metadata": {
        "colab": {
          "base_uri": "https://localhost:8080/",
          "height": 0
        },
        "id": "HWCHitSn3SJ1",
        "outputId": "f8d335d9-2735-4de5-9036-06c78985ebe2"
      },
      "execution_count": 19,
      "outputs": [
        {
          "output_type": "stream",
          "name": "stdout",
          "text": [
            "Sun Jan 22 19:26:08 2023       \n",
            "+-----------------------------------------------------------------------------+\n",
            "| NVIDIA-SMI 460.32.03    Driver Version: 460.32.03    CUDA Version: 11.2     |\n",
            "|-------------------------------+----------------------+----------------------+\n",
            "| GPU  Name        Persistence-M| Bus-Id        Disp.A | Volatile Uncorr. ECC |\n",
            "| Fan  Temp  Perf  Pwr:Usage/Cap|         Memory-Usage | GPU-Util  Compute M. |\n",
            "|                               |                      |               MIG M. |\n",
            "|===============================+======================+======================|\n",
            "|   0  Tesla T4            Off  | 00000000:00:04.0 Off |                    0 |\n",
            "| N/A   41C    P0    26W /  70W |      0MiB / 15109MiB |      0%      Default |\n",
            "|                               |                      |                  N/A |\n",
            "+-------------------------------+----------------------+----------------------+\n",
            "                                                                               \n",
            "+-----------------------------------------------------------------------------+\n",
            "| Processes:                                                                  |\n",
            "|  GPU   GI   CI        PID   Type   Process name                  GPU Memory |\n",
            "|        ID   ID                                                   Usage      |\n",
            "|=============================================================================|\n",
            "|  No running processes found                                                 |\n",
            "+-----------------------------------------------------------------------------+\n"
          ]
        }
      ]
    },
    {
      "cell_type": "markdown",
      "source": [
        "### Config"
      ],
      "metadata": {
        "id": "sCR7Sjus3TyE"
      }
    },
    {
      "cell_type": "code",
      "source": [
        "img_size = (256, 256)\n",
        "batch_size = 10 \n",
        "num_epochs = 30"
      ],
      "metadata": {
        "id": "VaYhOxel3Yrt"
      },
      "execution_count": 20,
      "outputs": []
    },
    {
      "cell_type": "markdown",
      "source": [
        "#### Train Dataset Split"
      ],
      "metadata": {
        "id": "bK00tCDn3dcK"
      }
    },
    {
      "cell_type": "code",
      "source": [
        "train_ds = tf.keras.preprocessing.image_dataset_from_directory(\n",
        "  data_dir,\n",
        "  validation_split=0.2,\n",
        "  subset=\"training\",\n",
        "  seed=761,\n",
        "  label_mode=\"categorical\",\n",
        "  image_size=img_size,\n",
        "  batch_size=batch_size)"
      ],
      "metadata": {
        "colab": {
          "base_uri": "https://localhost:8080/",
          "height": 0
        },
        "id": "R-s8X5jn3atW",
        "outputId": "7420dd83-8feb-4090-928f-b18fc1891ff4"
      },
      "execution_count": 21,
      "outputs": [
        {
          "output_type": "stream",
          "name": "stdout",
          "text": [
            "Found 5371 files belonging to 62 classes.\n",
            "Using 4297 files for training.\n"
          ]
        }
      ]
    },
    {
      "cell_type": "markdown",
      "source": [
        "#### Validation Dataset Split"
      ],
      "metadata": {
        "id": "aTjQq60U3gai"
      }
    },
    {
      "cell_type": "code",
      "source": [
        "val_ds = tf.keras.preprocessing.image_dataset_from_directory(\n",
        "  data_dir,\n",
        "  validation_split=0.2,\n",
        "  subset=\"validation\",\n",
        "  seed=761,\n",
        "  label_mode=\"categorical\",\n",
        "  image_size=img_size,\n",
        "  batch_size=batch_size)"
      ],
      "metadata": {
        "colab": {
          "base_uri": "https://localhost:8080/",
          "height": 0
        },
        "id": "e79Hkuns3ihu",
        "outputId": "f7f1d402-5396-44f6-f61d-8973c76dbed3"
      },
      "execution_count": 22,
      "outputs": [
        {
          "output_type": "stream",
          "name": "stdout",
          "text": [
            "Found 5371 files belonging to 62 classes.\n",
            "Using 1074 files for validation.\n"
          ]
        }
      ]
    },
    {
      "cell_type": "markdown",
      "source": [
        "#### Output Classes"
      ],
      "metadata": {
        "id": "tz2aYzPr3lhG"
      }
    },
    {
      "cell_type": "code",
      "source": [
        "class_names = train_ds.class_names\n",
        "num_classes = len(class_names)\n",
        "print(\"class names:\", class_names)\n",
        "print(\"number of classes:\", num_classes)"
      ],
      "metadata": {
        "colab": {
          "base_uri": "https://localhost:8080/",
          "height": 0
        },
        "id": "C6jbTKdj4YZ6",
        "outputId": "1cdea050-ea90-43c4-b2bd-86208d915816"
      },
      "execution_count": 23,
      "outputs": [
        {
          "output_type": "stream",
          "name": "stdout",
          "text": [
            "class names: ['index_10', 'index_11', 'index_12', 'index_13', 'index_14', 'index_15', 'index_16', 'index_17', 'index_18', 'index_19', 'index_2', 'index_20', 'index_21', 'index_22', 'index_23', 'index_24', 'index_25', 'index_26', 'index_27', 'index_28', 'index_29', 'index_3', 'index_30', 'index_31', 'index_32', 'index_33', 'index_34', 'index_35', 'index_36', 'index_37', 'index_38', 'index_39', 'index_4', 'index_40', 'index_41', 'index_42', 'index_43', 'index_44', 'index_45', 'index_46', 'index_47', 'index_48', 'index_49', 'index_5', 'index_50', 'index_51', 'index_52', 'index_53', 'index_54', 'index_55', 'index_56', 'index_57', 'index_58', 'index_59', 'index_6', 'index_60', 'index_61', 'index_62', 'index_63', 'index_7', 'index_8', 'index_9']\n",
            "number of classes: 62\n"
          ]
        }
      ]
    },
    {
      "cell_type": "markdown",
      "source": [
        "#### Print Random Samples from Dataset"
      ],
      "metadata": {
        "id": "hyN8mp784aAH"
      }
    },
    {
      "cell_type": "code",
      "source": [
        "plt.figure(figsize=(10, 10))\n",
        "for images, labels in train_ds.take(1):\n",
        "    for i in range(9):\n",
        "        ax = plt.subplot(3, 3, i + 1)\n",
        "        plt.imshow(images[i].numpy().astype(\"uint8\"))\n",
        "        title = class_names[labels[i].numpy().tolist().index(1)]\n",
        "        plt.title(title)\n",
        "        plt.axis(\"off\")"
      ],
      "metadata": {
        "colab": {
          "base_uri": "https://localhost:8080/",
          "height": 591
        },
        "id": "NF3pDQWT4cYK",
        "outputId": "771a2147-13d3-4e62-b166-a2118f57d38b"
      },
      "execution_count": 24,
      "outputs": [
        {
          "output_type": "display_data",
          "data": {
            "text/plain": [
              "<Figure size 720x720 with 9 Axes>"
            ],
            "image/png": "[encoded data removed]"
          },
          "metadata": {
            "needs_background": "light"
          }
        }
      ]
    },
    {
      "cell_type": "markdown",
      "source": [
        "#### Model Strucutre"
      ],
      "metadata": {
        "id": "nn8J9ig_4jKe"
      }
    },
    {
      "cell_type": "markdown",
      "source": [
        "##### Load Pretrained Model ResNet50 "
      ],
      "metadata": {
        "id": "BQTVodAv4pJN"
      }
    },
    {
      "cell_type": "code",
      "source": [
        "pretrained_model= tf.keras.applications.ResNet50(include_top=False,\n",
        "                   input_shape=(256,256,3),\n",
        "                   pooling='avg',\n",
        "                   classes=num_classes,\n",
        "                   weights='imagenet')\n",
        "for layer in pretrained_model.layers:\n",
        "        layer.trainable=False"
      ],
      "metadata": {
        "colab": {
          "base_uri": "https://localhost:8080/",
          "height": 0
        },
        "id": "9pjQZPe24lg8",
        "outputId": "99c474f9-e2eb-408d-ecfa-4d9c75f6be1d"
      },
      "execution_count": 25,
      "outputs": [
        {
          "output_type": "stream",
          "name": "stdout",
          "text": [
            "Downloading data from https://storage.googleapis.com/tensorflow/keras-applications/resnet/resnet50_weights_tf_dim_ordering_tf_kernels_notop.h5\n",
            "94765736/94765736 [==============================] - 3s 0us/step\n"
          ]
        }
      ]
    },
    {
      "cell_type": "code",
      "source": [
        "pretrained_model.summary()"
      ],
      "metadata": {
        "colab": {
          "base_uri": "https://localhost:8080/",
          "height": 0
        },
        "id": "yEeTkW1U43nW",
        "outputId": "0723536f-922a-4d0c-8bed-ea719604f962"
      },
      "execution_count": 26,
      "outputs": [
        {
          "output_type": "stream",
          "name": "stdout",
          "text": [
            "Model: \"resnet50\"\n",
            "__________________________________________________________________________________________________\n",
            " Layer (type)                   Output Shape         Param #     Connected to                     \n",
            "==================================================================================================\n",
            " input_1 (InputLayer)           [(None, 256, 256, 3  0           []                               \n",
            "                                )]                                                                \n",
            "                                                                                                  \n",
            " conv1_pad (ZeroPadding2D)      (None, 262, 262, 3)  0           ['input_1[0][0]']                \n",
            "                                                                                                  \n",
            " conv1_conv (Conv2D)            (None, 128, 128, 64  9472        ['conv1_pad[0][0]']              \n",
            "                                )                                                                 \n",
            "                                                                                                  \n",
            " conv1_bn (BatchNormalization)  (None, 128, 128, 64  256         ['conv1_conv[0][0]']             \n",
            "                                )                                                                 \n",
            "                                                                                                  \n",
            " conv1_relu (Activation)        (None, 128, 128, 64  0           ['conv1_bn[0][0]']               \n",
            "                                )                                                                 \n",
            "                                                                                                  \n",
            " pool1_pad (ZeroPadding2D)      (None, 130, 130, 64  0           ['conv1_relu[0][0]']             \n",
            "                                )                                                                 \n",
            "                                                                                                  \n",
            " pool1_pool (MaxPooling2D)      (None, 64, 64, 64)   0           ['pool1_pad[0][0]']              \n",
            "                                                                                                  \n",
            " conv2_block1_1_conv (Conv2D)   (None, 64, 64, 64)   4160        ['pool1_pool[0][0]']             \n",
            "                                                                                                  \n",
            " conv2_block1_1_bn (BatchNormal  (None, 64, 64, 64)  256         ['conv2_block1_1_conv[0][0]']    \n",
            " ization)                                                                                         \n",
            "                                                                                                  \n",
            " conv2_block1_1_relu (Activatio  (None, 64, 64, 64)  0           ['conv2_block1_1_bn[0][0]']      \n",
            " n)                                                                                               \n",
            "                                                                                                  \n",
            " conv2_block1_2_conv (Conv2D)   (None, 64, 64, 64)   36928       ['conv2_block1_1_relu[0][0]']    \n",
            "                                                                                                  \n",
            " conv2_block1_2_bn (BatchNormal  (None, 64, 64, 64)  256         ['conv2_block1_2_conv[0][0]']    \n",
            " ization)                                                                                         \n",
            "                                                                                                  \n",
            " conv2_block1_2_relu (Activatio  (None, 64, 64, 64)  0           ['conv2_block1_2_bn[0][0]']      \n",
            " n)                                                                                               \n",
            "                                                                                                  \n",
            " conv2_block1_0_conv (Conv2D)   (None, 64, 64, 256)  16640       ['pool1_pool[0][0]']             \n",
            "                                                                                                  \n",
            " conv2_block1_3_conv (Conv2D)   (None, 64, 64, 256)  16640       ['conv2_block1_2_relu[0][0]']    \n",
            "                                                                                                  \n",
            " conv2_block1_0_bn (BatchNormal  (None, 64, 64, 256)  1024       ['conv2_block1_0_conv[0][0]']    \n",
            " ization)                                                                                         \n",
            "                                                                                                  \n",
            " conv2_block1_3_bn (BatchNormal  (None, 64, 64, 256)  1024       ['conv2_block1_3_conv[0][0]']    \n",
            " ization)                                                                                         \n",
            "                                                                                                  \n",
            " conv2_block1_add (Add)         (None, 64, 64, 256)  0           ['conv2_block1_0_bn[0][0]',      \n",
            "                                                                  'conv2_block1_3_bn[0][0]']      \n",
            "                                                                                                  \n",
            " conv2_block1_out (Activation)  (None, 64, 64, 256)  0           ['conv2_block1_add[0][0]']       \n",
            "                                                                                                  \n",
            " conv2_block2_1_conv (Conv2D)   (None, 64, 64, 64)   16448       ['conv2_block1_out[0][0]']       \n",
            "                                                                                                  \n",
            " conv2_block2_1_bn (BatchNormal  (None, 64, 64, 64)  256         ['conv2_block2_1_conv[0][0]']    \n",
            " ization)                                                                                         \n",
            "                                                                                                  \n",
            " conv2_block2_1_relu (Activatio  (None, 64, 64, 64)  0           ['conv2_block2_1_bn[0][0]']      \n",
            " n)                                                                                               \n",
            "                                                                                                  \n",
            " conv2_block2_2_conv (Conv2D)   (None, 64, 64, 64)   36928       ['conv2_block2_1_relu[0][0]']    \n",
            "                                                                                                  \n",
            " conv2_block2_2_bn (BatchNormal  (None, 64, 64, 64)  256         ['conv2_block2_2_conv[0][0]']    \n",
            " ization)                                                                                         \n",
            "                                                                                                  \n",
            " conv2_block2_2_relu (Activatio  (None, 64, 64, 64)  0           ['conv2_block2_2_bn[0][0]']      \n",
            " n)                                                                                               \n",
            "                                                                                                  \n",
            " conv2_block2_3_conv (Conv2D)   (None, 64, 64, 256)  16640       ['conv2_block2_2_relu[0][0]']    \n",
            "                                                                                                  \n",
            " conv2_block2_3_bn (BatchNormal  (None, 64, 64, 256)  1024       ['conv2_block2_3_conv[0][0]']    \n",
            " ization)                                                                                         \n",
            "                                                                                                  \n",
            " conv2_block2_add (Add)         (None, 64, 64, 256)  0           ['conv2_block1_out[0][0]',       \n",
            "                                                                  'conv2_block2_3_bn[0][0]']      \n",
            "                                                                                                  \n",
            " conv2_block2_out (Activation)  (None, 64, 64, 256)  0           ['conv2_block2_add[0][0]']       \n",
            "                                                                                                  \n",
            " conv2_block3_1_conv (Conv2D)   (None, 64, 64, 64)   16448       ['conv2_block2_out[0][0]']       \n",
            "                                                                                                  \n",
            " conv2_block3_1_bn (BatchNormal  (None, 64, 64, 64)  256         ['conv2_block3_1_conv[0][0]']    \n",
            " ization)                                                                                         \n",
            "                                                                                                  \n",
            " conv2_block3_1_relu (Activatio  (None, 64, 64, 64)  0           ['conv2_block3_1_bn[0][0]']      \n",
            " n)                                                                                               \n",
            "                                                                                                  \n",
            " conv2_block3_2_conv (Conv2D)   (None, 64, 64, 64)   36928       ['conv2_block3_1_relu[0][0]']    \n",
            "                                                                                                  \n",
            " conv2_block3_2_bn (BatchNormal  (None, 64, 64, 64)  256         ['conv2_block3_2_conv[0][0]']    \n",
            " ization)                                                                                         \n",
            "                                                                                                  \n",
            " conv2_block3_2_relu (Activatio  (None, 64, 64, 64)  0           ['conv2_block3_2_bn[0][0]']      \n",
            " n)                                                                                               \n",
            "                                                                                                  \n",
            " conv2_block3_3_conv (Conv2D)   (None, 64, 64, 256)  16640       ['conv2_block3_2_relu[0][0]']    \n",
            "                                                                                                  \n",
            " conv2_block3_3_bn (BatchNormal  (None, 64, 64, 256)  1024       ['conv2_block3_3_conv[0][0]']    \n",
            " ization)                                                                                         \n",
            "                                                                                                  \n",
            " conv2_block3_add (Add)         (None, 64, 64, 256)  0           ['conv2_block2_out[0][0]',       \n",
            "                                                                  'conv2_block3_3_bn[0][0]']      \n",
            "                                                                                                  \n",
            " conv2_block3_out (Activation)  (None, 64, 64, 256)  0           ['conv2_block3_add[0][0]']       \n",
            "                                                                                                  \n",
            " conv3_block1_1_conv (Conv2D)   (None, 32, 32, 128)  32896       ['conv2_block3_out[0][0]']       \n",
            "                                                                                                  \n",
            " conv3_block1_1_bn (BatchNormal  (None, 32, 32, 128)  512        ['conv3_block1_1_conv[0][0]']    \n",
            " ization)                                                                                         \n",
            "                                                                                                  \n",
            " conv3_block1_1_relu (Activatio  (None, 32, 32, 128)  0          ['conv3_block1_1_bn[0][0]']      \n",
            " n)                                                                                               \n",
            "                                                                                                  \n",
            " conv3_block1_2_conv (Conv2D)   (None, 32, 32, 128)  147584      ['conv3_block1_1_relu[0][0]']    \n",
            "                                                                                                  \n",
            " conv3_block1_2_bn (BatchNormal  (None, 32, 32, 128)  512        ['conv3_block1_2_conv[0][0]']    \n",
            " ization)                                                                                         \n",
            "                                                                                                  \n",
            " conv3_block1_2_relu (Activatio  (None, 32, 32, 128)  0          ['conv3_block1_2_bn[0][0]']      \n",
            " n)                                                                                               \n",
            "                                                                                                  \n",
            " conv3_block1_0_conv (Conv2D)   (None, 32, 32, 512)  131584      ['conv2_block3_out[0][0]']       \n",
            "                                                                                                  \n",
            " conv3_block1_3_conv (Conv2D)   (None, 32, 32, 512)  66048       ['conv3_block1_2_relu[0][0]']    \n",
            "                                                                                                  \n",
            " conv3_block1_0_bn (BatchNormal  (None, 32, 32, 512)  2048       ['conv3_block1_0_conv[0][0]']    \n",
            " ization)                                                                                         \n",
            "                                                                                                  \n",
            " conv3_block1_3_bn (BatchNormal  (None, 32, 32, 512)  2048       ['conv3_block1_3_conv[0][0]']    \n",
            " ization)                                                                                         \n",
            "                                                                                                  \n",
            " conv3_block1_add (Add)         (None, 32, 32, 512)  0           ['conv3_block1_0_bn[0][0]',      \n",
            "                                                                  'conv3_block1_3_bn[0][0]']      \n",
            "                                                                                                  \n",
            " conv3_block1_out (Activation)  (None, 32, 32, 512)  0           ['conv3_block1_add[0][0]']       \n",
            "                                                                                                  \n",
            " conv3_block2_1_conv (Conv2D)   (None, 32, 32, 128)  65664       ['conv3_block1_out[0][0]']       \n",
            "                                                                                                  \n",
            " conv3_block2_1_bn (BatchNormal  (None, 32, 32, 128)  512        ['conv3_block2_1_conv[0][0]']    \n",
            " ization)                                                                                         \n",
            "                                                                                                  \n",
            " conv3_block2_1_relu (Activatio  (None, 32, 32, 128)  0          ['conv3_block2_1_bn[0][0]']      \n",
            " n)                                                                                               \n",
            "                                                                                                  \n",
            " conv3_block2_2_conv (Conv2D)   (None, 32, 32, 128)  147584      ['conv3_block2_1_relu[0][0]']    \n",
            "                                                                                                  \n",
            " conv3_block2_2_bn (BatchNormal  (None, 32, 32, 128)  512        ['conv3_block2_2_conv[0][0]']    \n",
            " ization)                                                                                         \n",
            "                                                                                                  \n",
            " conv3_block2_2_relu (Activatio  (None, 32, 32, 128)  0          ['conv3_block2_2_bn[0][0]']      \n",
            " n)                                                                                               \n",
            "                                                                                                  \n",
            " conv3_block2_3_conv (Conv2D)   (None, 32, 32, 512)  66048       ['conv3_block2_2_relu[0][0]']    \n",
            "                                                                                                  \n",
            " conv3_block2_3_bn (BatchNormal  (None, 32, 32, 512)  2048       ['conv3_block2_3_conv[0][0]']    \n",
            " ization)                                                                                         \n",
            "                                                                                                  \n",
            " conv3_block2_add (Add)         (None, 32, 32, 512)  0           ['conv3_block1_out[0][0]',       \n",
            "                                                                  'conv3_block2_3_bn[0][0]']      \n",
            "                                                                                                  \n",
            " conv3_block2_out (Activation)  (None, 32, 32, 512)  0           ['conv3_block2_add[0][0]']       \n",
            "                                                                                                  \n",
            " conv3_block3_1_conv (Conv2D)   (None, 32, 32, 128)  65664       ['conv3_block2_out[0][0]']       \n",
            "                                                                                                  \n",
            " conv3_block3_1_bn (BatchNormal  (None, 32, 32, 128)  512        ['conv3_block3_1_conv[0][0]']    \n",
            " ization)                                                                                         \n",
            "                                                                                                  \n",
            " conv3_block3_1_relu (Activatio  (None, 32, 32, 128)  0          ['conv3_block3_1_bn[0][0]']      \n",
            " n)                                                                                               \n",
            "                                                                                                  \n",
            " conv3_block3_2_conv (Conv2D)   (None, 32, 32, 128)  147584      ['conv3_block3_1_relu[0][0]']    \n",
            "                                                                                                  \n",
            " conv3_block3_2_bn (BatchNormal  (None, 32, 32, 128)  512        ['conv3_block3_2_conv[0][0]']    \n",
            " ization)                                                                                         \n",
            "                                                                                                  \n",
            " conv3_block3_2_relu (Activatio  (None, 32, 32, 128)  0          ['conv3_block3_2_bn[0][0]']      \n",
            " n)                                                                                               \n",
            "                                                                                                  \n",
            " conv3_block3_3_conv (Conv2D)   (None, 32, 32, 512)  66048       ['conv3_block3_2_relu[0][0]']    \n",
            "                                                                                                  \n",
            " conv3_block3_3_bn (BatchNormal  (None, 32, 32, 512)  2048       ['conv3_block3_3_conv[0][0]']    \n",
            " ization)                                                                                         \n",
            "                                                                                                  \n",
            " conv3_block3_add (Add)         (None, 32, 32, 512)  0           ['conv3_block2_out[0][0]',       \n",
            "                                                                  'conv3_block3_3_bn[0][0]']      \n",
            "                                                                                                  \n",
            " conv3_block3_out (Activation)  (None, 32, 32, 512)  0           ['conv3_block3_add[0][0]']       \n",
            "                                                                                                  \n",
            " conv3_block4_1_conv (Conv2D)   (None, 32, 32, 128)  65664       ['conv3_block3_out[0][0]']       \n",
            "                                                                                                  \n",
            " conv3_block4_1_bn (BatchNormal  (None, 32, 32, 128)  512        ['conv3_block4_1_conv[0][0]']    \n",
            " ization)                                                                                         \n",
            "                                                                                                  \n",
            " conv3_block4_1_relu (Activatio  (None, 32, 32, 128)  0          ['conv3_block4_1_bn[0][0]']      \n",
            " n)                                                                                               \n",
            "                                                                                                  \n",
            " conv3_block4_2_conv (Conv2D)   (None, 32, 32, 128)  147584      ['conv3_block4_1_relu[0][0]']    \n",
            "                                                                                                  \n",
            " conv3_block4_2_bn (BatchNormal  (None, 32, 32, 128)  512        ['conv3_block4_2_conv[0][0]']    \n",
            " ization)                                                                                         \n",
            "                                                                                                  \n",
            " conv3_block4_2_relu (Activatio  (None, 32, 32, 128)  0          ['conv3_block4_2_bn[0][0]']      \n",
            " n)                                                                                               \n",
            "                                                                                                  \n",
            " conv3_block4_3_conv (Conv2D)   (None, 32, 32, 512)  66048       ['conv3_block4_2_relu[0][0]']    \n",
            "                                                                                                  \n",
            " conv3_block4_3_bn (BatchNormal  (None, 32, 32, 512)  2048       ['conv3_block4_3_conv[0][0]']    \n",
            " ization)                                                                                         \n",
            "                                                                                                  \n",
            " conv3_block4_add (Add)         (None, 32, 32, 512)  0           ['conv3_block3_out[0][0]',       \n",
            "                                                                  'conv3_block4_3_bn[0][0]']      \n",
            "                                                                                                  \n",
            " conv3_block4_out (Activation)  (None, 32, 32, 512)  0           ['conv3_block4_add[0][0]']       \n",
            "                                                                                                  \n",
            " conv4_block1_1_conv (Conv2D)   (None, 16, 16, 256)  131328      ['conv3_block4_out[0][0]']       \n",
            "                                                                                                  \n",
            " conv4_block1_1_bn (BatchNormal  (None, 16, 16, 256)  1024       ['conv4_block1_1_conv[0][0]']    \n",
            " ization)                                                                                         \n",
            "                                                                                                  \n",
            " conv4_block1_1_relu (Activatio  (None, 16, 16, 256)  0          ['conv4_block1_1_bn[0][0]']      \n",
            " n)                                                                                               \n",
            "                                                                                                  \n",
            " conv4_block1_2_conv (Conv2D)   (None, 16, 16, 256)  590080      ['conv4_block1_1_relu[0][0]']    \n",
            "                                                                                                  \n",
            " conv4_block1_2_bn (BatchNormal  (None, 16, 16, 256)  1024       ['conv4_block1_2_conv[0][0]']    \n",
            " ization)                                                                                         \n",
            "                                                                                                  \n",
            " conv4_block1_2_relu (Activatio  (None, 16, 16, 256)  0          ['conv4_block1_2_bn[0][0]']      \n",
            " n)                                                                                               \n",
            "                                                                                                  \n",
            " conv4_block1_0_conv (Conv2D)   (None, 16, 16, 1024  525312      ['conv3_block4_out[0][0]']       \n",
            "                                )                                                                 \n",
            "                                                                                                  \n",
            " conv4_block1_3_conv (Conv2D)   (None, 16, 16, 1024  263168      ['conv4_block1_2_relu[0][0]']    \n",
            "                                )                                                                 \n",
            "                                                                                                  \n",
            " conv4_block1_0_bn (BatchNormal  (None, 16, 16, 1024  4096       ['conv4_block1_0_conv[0][0]']    \n",
            " ization)                       )                                                                 \n",
            "                                                                                                  \n",
            " conv4_block1_3_bn (BatchNormal  (None, 16, 16, 1024  4096       ['conv4_block1_3_conv[0][0]']    \n",
            " ization)                       )                                                                 \n",
            "                                                                                                  \n",
            " conv4_block1_add (Add)         (None, 16, 16, 1024  0           ['conv4_block1_0_bn[0][0]',      \n",
            "                                )                                 'conv4_block1_3_bn[0][0]']      \n",
            "                                                                                                  \n",
            " conv4_block1_out (Activation)  (None, 16, 16, 1024  0           ['conv4_block1_add[0][0]']       \n",
            "                                )                                                                 \n",
            "                                                                                                  \n",
            " conv4_block2_1_conv (Conv2D)   (None, 16, 16, 256)  262400      ['conv4_block1_out[0][0]']       \n",
            "                                                                                                  \n",
            " conv4_block2_1_bn (BatchNormal  (None, 16, 16, 256)  1024       ['conv4_block2_1_conv[0][0]']    \n",
            " ization)                                                                                         \n",
            "                                                                                                  \n",
            " conv4_block2_1_relu (Activatio  (None, 16, 16, 256)  0          ['conv4_block2_1_bn[0][0]']      \n",
            " n)                                                                                               \n",
            "                                                                                                  \n",
            " conv4_block2_2_conv (Conv2D)   (None, 16, 16, 256)  590080      ['conv4_block2_1_relu[0][0]']    \n",
            "                                                                                                  \n",
            " conv4_block2_2_bn (BatchNormal  (None, 16, 16, 256)  1024       ['conv4_block2_2_conv[0][0]']    \n",
            " ization)                                                                                         \n",
            "                                                                                                  \n",
            " conv4_block2_2_relu (Activatio  (None, 16, 16, 256)  0          ['conv4_block2_2_bn[0][0]']      \n",
            " n)                                                                                               \n",
            "                                                                                                  \n",
            " conv4_block2_3_conv (Conv2D)   (None, 16, 16, 1024  263168      ['conv4_block2_2_relu[0][0]']    \n",
            "                                )                                                                 \n",
            "                                                                                                  \n",
            " conv4_block2_3_bn (BatchNormal  (None, 16, 16, 1024  4096       ['conv4_block2_3_conv[0][0]']    \n",
            " ization)                       )                                                                 \n",
            "                                                                                                  \n",
            " conv4_block2_add (Add)         (None, 16, 16, 1024  0           ['conv4_block1_out[0][0]',       \n",
            "                                )                                 'conv4_block2_3_bn[0][0]']      \n",
            "                                                                                                  \n",
            " conv4_block2_out (Activation)  (None, 16, 16, 1024  0           ['conv4_block2_add[0][0]']       \n",
            "                                )                                                                 \n",
            "                                                                                                  \n",
            " conv4_block3_1_conv (Conv2D)   (None, 16, 16, 256)  262400      ['conv4_block2_out[0][0]']       \n",
            "                                                                                                  \n",
            " conv4_block3_1_bn (BatchNormal  (None, 16, 16, 256)  1024       ['conv4_block3_1_conv[0][0]']    \n",
            " ization)                                                                                         \n",
            "                                                                                                  \n",
            " conv4_block3_1_relu (Activatio  (None, 16, 16, 256)  0          ['conv4_block3_1_bn[0][0]']      \n",
            " n)                                                                                               \n",
            "                                                                                                  \n",
            " conv4_block3_2_conv (Conv2D)   (None, 16, 16, 256)  590080      ['conv4_block3_1_relu[0][0]']    \n",
            "                                                                                                  \n",
            " conv4_block3_2_bn (BatchNormal  (None, 16, 16, 256)  1024       ['conv4_block3_2_conv[0][0]']    \n",
            " ization)                                                                                         \n",
            "                                                                                                  \n",
            " conv4_block3_2_relu (Activatio  (None, 16, 16, 256)  0          ['conv4_block3_2_bn[0][0]']      \n",
            " n)                                                                                               \n",
            "                                                                                                  \n",
            " conv4_block3_3_conv (Conv2D)   (None, 16, 16, 1024  263168      ['conv4_block3_2_relu[0][0]']    \n",
            "                                )                                                                 \n",
            "                                                                                                  \n",
            " conv4_block3_3_bn (BatchNormal  (None, 16, 16, 1024  4096       ['conv4_block3_3_conv[0][0]']    \n",
            " ization)                       )                                                                 \n",
            "                                                                                                  \n",
            " conv4_block3_add (Add)         (None, 16, 16, 1024  0           ['conv4_block2_out[0][0]',       \n",
            "                                )                                 'conv4_block3_3_bn[0][0]']      \n",
            "                                                                                                  \n",
            " conv4_block3_out (Activation)  (None, 16, 16, 1024  0           ['conv4_block3_add[0][0]']       \n",
            "                                )                                                                 \n",
            "                                                                                                  \n",
            " conv4_block4_1_conv (Conv2D)   (None, 16, 16, 256)  262400      ['conv4_block3_out[0][0]']       \n",
            "                                                                                                  \n",
            " conv4_block4_1_bn (BatchNormal  (None, 16, 16, 256)  1024       ['conv4_block4_1_conv[0][0]']    \n",
            " ization)                                                                                         \n",
            "                                                                                                  \n",
            " conv4_block4_1_relu (Activatio  (None, 16, 16, 256)  0          ['conv4_block4_1_bn[0][0]']      \n",
            " n)                                                                                               \n",
            "                                                                                                  \n",
            " conv4_block4_2_conv (Conv2D)   (None, 16, 16, 256)  590080      ['conv4_block4_1_relu[0][0]']    \n",
            "                                                                                                  \n",
            " conv4_block4_2_bn (BatchNormal  (None, 16, 16, 256)  1024       ['conv4_block4_2_conv[0][0]']    \n",
            " ization)                                                                                         \n",
            "                                                                                                  \n",
            " conv4_block4_2_relu (Activatio  (None, 16, 16, 256)  0          ['conv4_block4_2_bn[0][0]']      \n",
            " n)                                                                                               \n",
            "                                                                                                  \n",
            " conv4_block4_3_conv (Conv2D)   (None, 16, 16, 1024  263168      ['conv4_block4_2_relu[0][0]']    \n",
            "                                )                                                                 \n",
            "                                                                                                  \n",
            " conv4_block4_3_bn (BatchNormal  (None, 16, 16, 1024  4096       ['conv4_block4_3_conv[0][0]']    \n",
            " ization)                       )                                                                 \n",
            "                                                                                                  \n",
            " conv4_block4_add (Add)         (None, 16, 16, 1024  0           ['conv4_block3_out[0][0]',       \n",
            "                                )                                 'conv4_block4_3_bn[0][0]']      \n",
            "                                                                                                  \n",
            " conv4_block4_out (Activation)  (None, 16, 16, 1024  0           ['conv4_block4_add[0][0]']       \n",
            "                                )                                                                 \n",
            "                                                                                                  \n",
            " conv4_block5_1_conv (Conv2D)   (None, 16, 16, 256)  262400      ['conv4_block4_out[0][0]']       \n",
            "                                                                                                  \n",
            " conv4_block5_1_bn (BatchNormal  (None, 16, 16, 256)  1024       ['conv4_block5_1_conv[0][0]']    \n",
            " ization)                                                                                         \n",
            "                                                                                                  \n",
            " conv4_block5_1_relu (Activatio  (None, 16, 16, 256)  0          ['conv4_block5_1_bn[0][0]']      \n",
            " n)                                                                                               \n",
            "                                                                                                  \n",
            " conv4_block5_2_conv (Conv2D)   (None, 16, 16, 256)  590080      ['conv4_block5_1_relu[0][0]']    \n",
            "                                                                                                  \n",
            " conv4_block5_2_bn (BatchNormal  (None, 16, 16, 256)  1024       ['conv4_block5_2_conv[0][0]']    \n",
            " ization)                                                                                         \n",
            "                                                                                                  \n",
            " conv4_block5_2_relu (Activatio  (None, 16, 16, 256)  0          ['conv4_block5_2_bn[0][0]']      \n",
            " n)                                                                                               \n",
            "                                                                                                  \n",
            " conv4_block5_3_conv (Conv2D)   (None, 16, 16, 1024  263168      ['conv4_block5_2_relu[0][0]']    \n",
            "                                )                                                                 \n",
            "                                                                                                  \n",
            " conv4_block5_3_bn (BatchNormal  (None, 16, 16, 1024  4096       ['conv4_block5_3_conv[0][0]']    \n",
            " ization)                       )                                                                 \n",
            "                                                                                                  \n",
            " conv4_block5_add (Add)         (None, 16, 16, 1024  0           ['conv4_block4_out[0][0]',       \n",
            "                                )                                 'conv4_block5_3_bn[0][0]']      \n",
            "                                                                                                  \n",
            " conv4_block5_out (Activation)  (None, 16, 16, 1024  0           ['conv4_block5_add[0][0]']       \n",
            "                                )                                                                 \n",
            "                                                                                                  \n",
            " conv4_block6_1_conv (Conv2D)   (None, 16, 16, 256)  262400      ['conv4_block5_out[0][0]']       \n",
            "                                                                                                  \n",
            " conv4_block6_1_bn (BatchNormal  (None, 16, 16, 256)  1024       ['conv4_block6_1_conv[0][0]']    \n",
            " ization)                                                                                         \n",
            "                                                                                                  \n",
            " conv4_block6_1_relu (Activatio  (None, 16, 16, 256)  0          ['conv4_block6_1_bn[0][0]']      \n",
            " n)                                                                                               \n",
            "                                                                                                  \n",
            " conv4_block6_2_conv (Conv2D)   (None, 16, 16, 256)  590080      ['conv4_block6_1_relu[0][0]']    \n",
            "                                                                                                  \n",
            " conv4_block6_2_bn (BatchNormal  (None, 16, 16, 256)  1024       ['conv4_block6_2_conv[0][0]']    \n",
            " ization)                                                                                         \n",
            "                                                                                                  \n",
            " conv4_block6_2_relu (Activatio  (None, 16, 16, 256)  0          ['conv4_block6_2_bn[0][0]']      \n",
            " n)                                                                                               \n",
            "                                                                                                  \n",
            " conv4_block6_3_conv (Conv2D)   (None, 16, 16, 1024  263168      ['conv4_block6_2_relu[0][0]']    \n",
            "                                )                                                                 \n",
            "                                                                                                  \n",
            " conv4_block6_3_bn (BatchNormal  (None, 16, 16, 1024  4096       ['conv4_block6_3_conv[0][0]']    \n",
            " ization)                       )                                                                 \n",
            "                                                                                                  \n",
            " conv4_block6_add (Add)         (None, 16, 16, 1024  0           ['conv4_block5_out[0][0]',       \n",
            "                                )                                 'conv4_block6_3_bn[0][0]']      \n",
            "                                                                                                  \n",
            " conv4_block6_out (Activation)  (None, 16, 16, 1024  0           ['conv4_block6_add[0][0]']       \n",
            "                                )                                                                 \n",
            "                                                                                                  \n",
            " conv5_block1_1_conv (Conv2D)   (None, 8, 8, 512)    524800      ['conv4_block6_out[0][0]']       \n",
            "                                                                                                  \n",
            " conv5_block1_1_bn (BatchNormal  (None, 8, 8, 512)   2048        ['conv5_block1_1_conv[0][0]']    \n",
            " ization)                                                                                         \n",
            "                                                                                                  \n",
            " conv5_block1_1_relu (Activatio  (None, 8, 8, 512)   0           ['conv5_block1_1_bn[0][0]']      \n",
            " n)                                                                                               \n",
            "                                                                                                  \n",
            " conv5_block1_2_conv (Conv2D)   (None, 8, 8, 512)    2359808     ['conv5_block1_1_relu[0][0]']    \n",
            "                                                                                                  \n",
            " conv5_block1_2_bn (BatchNormal  (None, 8, 8, 512)   2048        ['conv5_block1_2_conv[0][0]']    \n",
            " ization)                                                                                         \n",
            "                                                                                                  \n",
            " conv5_block1_2_relu (Activatio  (None, 8, 8, 512)   0           ['conv5_block1_2_bn[0][0]']      \n",
            " n)                                                                                               \n",
            "                                                                                                  \n",
            " conv5_block1_0_conv (Conv2D)   (None, 8, 8, 2048)   2099200     ['conv4_block6_out[0][0]']       \n",
            "                                                                                                  \n",
            " conv5_block1_3_conv (Conv2D)   (None, 8, 8, 2048)   1050624     ['conv5_block1_2_relu[0][0]']    \n",
            "                                                                                                  \n",
            " conv5_block1_0_bn (BatchNormal  (None, 8, 8, 2048)  8192        ['conv5_block1_0_conv[0][0]']    \n",
            " ization)                                                                                         \n",
            "                                                                                                  \n",
            " conv5_block1_3_bn (BatchNormal  (None, 8, 8, 2048)  8192        ['conv5_block1_3_conv[0][0]']    \n",
            " ization)                                                                                         \n",
            "                                                                                                  \n",
            " conv5_block1_add (Add)         (None, 8, 8, 2048)   0           ['conv5_block1_0_bn[0][0]',      \n",
            "                                                                  'conv5_block1_3_bn[0][0]']      \n",
            "                                                                                                  \n",
            " conv5_block1_out (Activation)  (None, 8, 8, 2048)   0           ['conv5_block1_add[0][0]']       \n",
            "                                                                                                  \n",
            " conv5_block2_1_conv (Conv2D)   (None, 8, 8, 512)    1049088     ['conv5_block1_out[0][0]']       \n",
            "                                                                                                  \n",
            " conv5_block2_1_bn (BatchNormal  (None, 8, 8, 512)   2048        ['conv5_block2_1_conv[0][0]']    \n",
            " ization)                                                                                         \n",
            "                                                                                                  \n",
            " conv5_block2_1_relu (Activatio  (None, 8, 8, 512)   0           ['conv5_block2_1_bn[0][0]']      \n",
            " n)                                                                                               \n",
            "                                                                                                  \n",
            " conv5_block2_2_conv (Conv2D)   (None, 8, 8, 512)    2359808     ['conv5_block2_1_relu[0][0]']    \n",
            "                                                                                                  \n",
            " conv5_block2_2_bn (BatchNormal  (None, 8, 8, 512)   2048        ['conv5_block2_2_conv[0][0]']    \n",
            " ization)                                                                                         \n",
            "                                                                                                  \n",
            " conv5_block2_2_relu (Activatio  (None, 8, 8, 512)   0           ['conv5_block2_2_bn[0][0]']      \n",
            " n)                                                                                               \n",
            "                                                                                                  \n",
            " conv5_block2_3_conv (Conv2D)   (None, 8, 8, 2048)   1050624     ['conv5_block2_2_relu[0][0]']    \n",
            "                                                                                                  \n",
            " conv5_block2_3_bn (BatchNormal  (None, 8, 8, 2048)  8192        ['conv5_block2_3_conv[0][0]']    \n",
            " ization)                                                                                         \n",
            "                                                                                                  \n",
            " conv5_block2_add (Add)         (None, 8, 8, 2048)   0           ['conv5_block1_out[0][0]',       \n",
            "                                                                  'conv5_block2_3_bn[0][0]']      \n",
            "                                                                                                  \n",
            " conv5_block2_out (Activation)  (None, 8, 8, 2048)   0           ['conv5_block2_add[0][0]']       \n",
            "                                                                                                  \n",
            " conv5_block3_1_conv (Conv2D)   (None, 8, 8, 512)    1049088     ['conv5_block2_out[0][0]']       \n",
            "                                                                                                  \n",
            " conv5_block3_1_bn (BatchNormal  (None, 8, 8, 512)   2048        ['conv5_block3_1_conv[0][0]']    \n",
            " ization)                                                                                         \n",
            "                                                                                                  \n",
            " conv5_block3_1_relu (Activatio  (None, 8, 8, 512)   0           ['conv5_block3_1_bn[0][0]']      \n",
            " n)                                                                                               \n",
            "                                                                                                  \n",
            " conv5_block3_2_conv (Conv2D)   (None, 8, 8, 512)    2359808     ['conv5_block3_1_relu[0][0]']    \n",
            "                                                                                                  \n",
            " conv5_block3_2_bn (BatchNormal  (None, 8, 8, 512)   2048        ['conv5_block3_2_conv[0][0]']    \n",
            " ization)                                                                                         \n",
            "                                                                                                  \n",
            " conv5_block3_2_relu (Activatio  (None, 8, 8, 512)   0           ['conv5_block3_2_bn[0][0]']      \n",
            " n)                                                                                               \n",
            "                                                                                                  \n",
            " conv5_block3_3_conv (Conv2D)   (None, 8, 8, 2048)   1050624     ['conv5_block3_2_relu[0][0]']    \n",
            "                                                                                                  \n",
            " conv5_block3_3_bn (BatchNormal  (None, 8, 8, 2048)  8192        ['conv5_block3_3_conv[0][0]']    \n",
            " ization)                                                                                         \n",
            "                                                                                                  \n",
            " conv5_block3_add (Add)         (None, 8, 8, 2048)   0           ['conv5_block2_out[0][0]',       \n",
            "                                                                  'conv5_block3_3_bn[0][0]']      \n",
            "                                                                                                  \n",
            " conv5_block3_out (Activation)  (None, 8, 8, 2048)   0           ['conv5_block3_add[0][0]']       \n",
            "                                                                                                  \n",
            " avg_pool (GlobalAveragePooling  (None, 2048)        0           ['conv5_block3_out[0][0]']       \n",
            " 2D)                                                                                              \n",
            "                                                                                                  \n",
            "==================================================================================================\n",
            "Total params: 23,587,712\n",
            "Trainable params: 0\n",
            "Non-trainable params: 23,587,712\n",
            "__________________________________________________________________________________________________\n"
          ]
        }
      ]
    },
    {
      "cell_type": "markdown",
      "source": [
        "##### Create Model"
      ],
      "metadata": {
        "id": "g35fPFIj5Kea"
      }
    },
    {
      "cell_type": "code",
      "source": [
        "resnet_model = Sequential()\n",
        "resnet_model.add(pretrained_model)\n",
        "resnet_model.add(Flatten())\n",
        "resnet_model.add(Dense(512, activation='relu'))\n",
        "resnet_model.add(Dense(num_classes, activation='softmax'))"
      ],
      "metadata": {
        "id": "TVTvGmz45UyO"
      },
      "execution_count": 27,
      "outputs": []
    },
    {
      "cell_type": "code",
      "source": [
        "resnet_model.summary()"
      ],
      "metadata": {
        "colab": {
          "base_uri": "https://localhost:8080/",
          "height": 0
        },
        "id": "ypRSpr3y4vE2",
        "outputId": "ccfe4a8a-c60f-4209-a949-dbd6fe8cb516"
      },
      "execution_count": 28,
      "outputs": [
        {
          "output_type": "stream",
          "name": "stdout",
          "text": [
            "Model: \"sequential\"\n",
            "_________________________________________________________________\n",
            " Layer (type)                Output Shape              Param #   \n",
            "=================================================================\n",
            " resnet50 (Functional)       (None, 2048)              23587712  \n",
            "                                                                 \n",
            " flatten (Flatten)           (None, 2048)              0         \n",
            "                                                                 \n",
            " dense (Dense)               (None, 512)               1049088   \n",
            "                                                                 \n",
            " dense_1 (Dense)             (None, 62)                31806     \n",
            "                                                                 \n",
            "=================================================================\n",
            "Total params: 24,668,606\n",
            "Trainable params: 1,080,894\n",
            "Non-trainable params: 23,587,712\n",
            "_________________________________________________________________\n"
          ]
        }
      ]
    },
    {
      "cell_type": "code",
      "source": [
        "resnet_model.compile(optimizer=Adam(lr=0.001),loss='categorical_crossentropy',metrics=['accuracy'])"
      ],
      "metadata": {
        "colab": {
          "base_uri": "https://localhost:8080/",
          "height": 0
        },
        "id": "4qHJicbH5prm",
        "outputId": "2b0c3e9c-0d67-4b9a-f7c8-5a96fa3edaa5"
      },
      "execution_count": 29,
      "outputs": [
        {
          "output_type": "stream",
          "name": "stderr",
          "text": [
            "/usr/local/lib/python3.8/dist-packages/keras/optimizers/optimizer_v2/adam.py:110: UserWarning: The `lr` argument is deprecated, use `learning_rate` instead.\n",
            "  super(Adam, self).__init__(name, **kwargs)\n"
          ]
        }
      ]
    },
    {
      "cell_type": "markdown",
      "source": [
        "##### Train the Model"
      ],
      "metadata": {
        "id": "b-hQonL35rws"
      }
    },
    {
      "cell_type": "code",
      "source": [
        "history = resnet_model.fit(train_ds, validation_data=val_ds, epochs=num_epochs)"
      ],
      "metadata": {
        "colab": {
          "base_uri": "https://localhost:8080/",
          "height": 0
        },
        "id": "1kNYALSK5t38",
        "outputId": "3660ebda-e483-4af2-b0dc-836c5ab51c33"
      },
      "execution_count": 30,
      "outputs": [
        {
          "output_type": "stream",
          "name": "stdout",
          "text": [
            "Epoch 1/30\n",
            "430/430 [==============================] - 38s 63ms/step - loss: 3.5662 - accuracy: 0.1478 - val_loss: 3.2155 - val_accuracy: 0.1741\n",
            "Epoch 2/30\n",
            "430/430 [==============================] - 26s 60ms/step - loss: 2.8740 - accuracy: 0.2353 - val_loss: 2.6971 - val_accuracy: 0.2728\n",
            "Epoch 3/30\n",
            "430/430 [==============================] - 26s 60ms/step - loss: 2.5389 - accuracy: 0.2890 - val_loss: 2.4860 - val_accuracy: 0.2747\n",
            "Epoch 4/30\n",
            "430/430 [==============================] - 26s 60ms/step - loss: 2.3376 - accuracy: 0.3184 - val_loss: 2.4132 - val_accuracy: 0.2775\n",
            "Epoch 5/30\n",
            "430/430 [==============================] - 26s 61ms/step - loss: 2.1992 - accuracy: 0.3363 - val_loss: 2.3174 - val_accuracy: 0.2961\n",
            "Epoch 6/30\n",
            "430/430 [==============================] - 26s 61ms/step - loss: 2.1011 - accuracy: 0.3540 - val_loss: 2.2302 - val_accuracy: 0.3119\n",
            "Epoch 7/30\n",
            "430/430 [==============================] - 27s 62ms/step - loss: 2.0463 - accuracy: 0.3600 - val_loss: 2.1625 - val_accuracy: 0.3222\n",
            "Epoch 8/30\n",
            "430/430 [==============================] - 26s 61ms/step - loss: 1.9731 - accuracy: 0.3786 - val_loss: 2.1189 - val_accuracy: 0.3361\n",
            "Epoch 9/30\n",
            "430/430 [==============================] - 27s 62ms/step - loss: 1.9159 - accuracy: 0.3824 - val_loss: 2.1399 - val_accuracy: 0.3175\n",
            "Epoch 10/30\n",
            "430/430 [==============================] - 27s 61ms/step - loss: 1.8691 - accuracy: 0.4026 - val_loss: 2.1082 - val_accuracy: 0.3333\n",
            "Epoch 11/30\n",
            "430/430 [==============================] - 27s 62ms/step - loss: 1.8292 - accuracy: 0.4168 - val_loss: 2.1105 - val_accuracy: 0.3138\n",
            "Epoch 12/30\n",
            "430/430 [==============================] - 27s 62ms/step - loss: 1.7878 - accuracy: 0.4259 - val_loss: 2.0747 - val_accuracy: 0.3203\n",
            "Epoch 13/30\n",
            "430/430 [==============================] - 27s 62ms/step - loss: 1.7474 - accuracy: 0.4303 - val_loss: 2.1066 - val_accuracy: 0.3240\n",
            "Epoch 14/30\n",
            "430/430 [==============================] - 27s 63ms/step - loss: 1.7162 - accuracy: 0.4375 - val_loss: 2.0643 - val_accuracy: 0.3194\n",
            "Epoch 15/30\n",
            "430/430 [==============================] - 27s 62ms/step - loss: 1.6725 - accuracy: 0.4517 - val_loss: 2.0571 - val_accuracy: 0.3240\n",
            "Epoch 16/30\n",
            "430/430 [==============================] - 27s 63ms/step - loss: 1.6501 - accuracy: 0.4468 - val_loss: 2.0826 - val_accuracy: 0.3147\n",
            "Epoch 17/30\n",
            "430/430 [==============================] - 27s 62ms/step - loss: 1.6296 - accuracy: 0.4585 - val_loss: 2.0198 - val_accuracy: 0.3361\n",
            "Epoch 18/30\n",
            "430/430 [==============================] - 27s 62ms/step - loss: 1.5890 - accuracy: 0.4720 - val_loss: 2.0690 - val_accuracy: 0.3184\n",
            "Epoch 19/30\n",
            "430/430 [==============================] - 27s 62ms/step - loss: 1.5775 - accuracy: 0.4668 - val_loss: 2.0646 - val_accuracy: 0.3240\n",
            "Epoch 20/30\n",
            "430/430 [==============================] - 27s 62ms/step - loss: 1.5411 - accuracy: 0.4859 - val_loss: 2.1839 - val_accuracy: 0.3212\n",
            "Epoch 21/30\n",
            "430/430 [==============================] - 27s 62ms/step - loss: 1.5295 - accuracy: 0.4838 - val_loss: 2.0418 - val_accuracy: 0.3333\n",
            "Epoch 22/30\n",
            "430/430 [==============================] - 27s 62ms/step - loss: 1.4910 - accuracy: 0.5034 - val_loss: 2.0689 - val_accuracy: 0.3333\n",
            "Epoch 23/30\n",
            "430/430 [==============================] - 27s 62ms/step - loss: 1.4662 - accuracy: 0.4990 - val_loss: 2.0536 - val_accuracy: 0.3203\n",
            "Epoch 24/30\n",
            "430/430 [==============================] - 27s 62ms/step - loss: 1.4424 - accuracy: 0.5120 - val_loss: 2.0673 - val_accuracy: 0.3343\n",
            "Epoch 25/30\n",
            "430/430 [==============================] - 27s 62ms/step - loss: 1.4281 - accuracy: 0.5157 - val_loss: 2.0782 - val_accuracy: 0.3287\n",
            "Epoch 26/30\n",
            "430/430 [==============================] - 27s 62ms/step - loss: 1.3956 - accuracy: 0.5348 - val_loss: 2.1159 - val_accuracy: 0.3361\n",
            "Epoch 27/30\n",
            "430/430 [==============================] - 27s 62ms/step - loss: 1.3730 - accuracy: 0.5353 - val_loss: 2.0486 - val_accuracy: 0.3464\n",
            "Epoch 28/30\n",
            "430/430 [==============================] - 27s 62ms/step - loss: 1.3772 - accuracy: 0.5308 - val_loss: 2.1038 - val_accuracy: 0.3417\n",
            "Epoch 29/30\n",
            "430/430 [==============================] - 26s 61ms/step - loss: 1.3295 - accuracy: 0.5481 - val_loss: 2.1119 - val_accuracy: 0.3454\n",
            "Epoch 30/30\n",
            "430/430 [==============================] - 27s 62ms/step - loss: 1.3070 - accuracy: 0.5590 - val_loss: 2.1034 - val_accuracy: 0.3212\n"
          ]
        }
      ]
    },
    {
      "cell_type": "markdown",
      "source": [
        "##### Plot the Model Accuracy "
      ],
      "metadata": {
        "id": "2shI67OT53mA"
      }
    },
    {
      "cell_type": "code",
      "source": [
        "fig1 = plt.gcf()\n",
        "plt.plot(history.history['accuracy'])\n",
        "plt.plot(history.history['val_accuracy'])\n",
        "plt.axis(ymin=0.0, ymax=0.65)\n",
        "plt.grid()\n",
        "plt.title('Model Accuracy')\n",
        "plt.ylabel('Accuracy')\n",
        "plt.xlabel('Epochs')\n",
        "plt.legend(['train', 'validation'])\n",
        "plt.show()"
      ],
      "metadata": {
        "colab": {
          "base_uri": "https://localhost:8080/",
          "height": 295
        },
        "id": "OEYNbXxb5_Q8",
        "outputId": "fade91f1-ce8d-467c-c596-52e9245f4251"
      },
      "execution_count": 31,
      "outputs": [
        {
          "output_type": "display_data",
          "data": {
            "text/plain": [
              "<Figure size 432x288 with 1 Axes>"
            ],
            "image/png": "[encoded data removed]"
          },
          "metadata": {
            "needs_background": "light"
          }
        }
      ]
    },
    {
      "cell_type": "markdown",
      "source": [
        "##### Save the Model"
      ],
      "metadata": {
        "id": "G1nTQr_M4uiP"
      }
    },
    {
      "cell_type": "code",
      "source": [
        "resnet_model.save('/content/lidar_model.h5')"
      ],
      "metadata": {
        "id": "fbujUQuY6HIE"
      },
      "execution_count": 32,
      "outputs": []
    },
    {
      "cell_type": "markdown",
      "source": [
        "### Test and Analysis"
      ],
      "metadata": {
        "id": "CQ-boiod6Kdx"
      }
    },
    {
      "cell_type": "markdown",
      "source": [
        "#### Prediction Functions"
      ],
      "metadata": {
        "id": "But4bvL76zit"
      }
    },
    {
      "cell_type": "code",
      "source": [
        "def predict_img(model, img):\n",
        "  img = np.expand_dims(img, axis=0)\n",
        "  pred = model.predict(img)\n",
        "  output_class=class_names[np.argmax(pred)]\n",
        "  return output_class"
      ],
      "metadata": {
        "id": "EgCHZCJR6P9J"
      },
      "execution_count": 33,
      "outputs": []
    },
    {
      "cell_type": "code",
      "source": [
        "def top_n_max_indices(arr, n):\n",
        "  return np.argpartition(arr, -n)[-n:]"
      ],
      "metadata": {
        "id": "DdLMYoA16UnY"
      },
      "execution_count": 34,
      "outputs": []
    },
    {
      "cell_type": "code",
      "source": [
        "def predict_img_slice(model, img, n):\n",
        "  img = np.expand_dims(img, axis=0)\n",
        "  pred = model.predict(img)\n",
        "  pred_val = pred[0,:]\n",
        "  output_classes_idx = top_n_max_indices(pred_val, n)\n",
        "  class_names_np = np.array(class_names)\n",
        "  output_classes = class_names_np[output_classes_idx]\n",
        "  return output_classes"
      ],
      "metadata": {
        "id": "HAugdcUG6SIz"
      },
      "execution_count": 35,
      "outputs": []
    },
    {
      "cell_type": "code",
      "source": [
        "test_X_imgs = convert_to_img(test_X)"
      ],
      "metadata": {
        "id": "FhxkrUtN6YUp"
      },
      "execution_count": 36,
      "outputs": []
    },
    {
      "cell_type": "markdown",
      "source": [
        "##### Debug Test"
      ],
      "metadata": {
        "id": "mcYNN2av6hed"
      }
    },
    {
      "cell_type": "code",
      "source": [
        "predict_img(resnet_model, test_X_imgs[0])\n",
        "print(\"actual class is:\", test_y[0])"
      ],
      "metadata": {
        "colab": {
          "base_uri": "https://localhost:8080/",
          "height": 0
        },
        "id": "0qx76M-z6fvX",
        "outputId": "bc406e41-fd49-4567-8918-e2e827ff336b"
      },
      "execution_count": 37,
      "outputs": [
        {
          "output_type": "stream",
          "name": "stdout",
          "text": [
            "1/1 [==============================] - 1s 1s/step\n",
            "actual class is: 14\n"
          ]
        }
      ]
    },
    {
      "cell_type": "code",
      "source": [
        "predict_img_slice(resnet_model, test_X_imgs[0], 2)"
      ],
      "metadata": {
        "colab": {
          "base_uri": "https://localhost:8080/",
          "height": 0
        },
        "id": "rJfi7L_R6jK2",
        "outputId": "25da3269-6f10-4281-9ece-d50eaaf372da"
      },
      "execution_count": 38,
      "outputs": [
        {
          "output_type": "stream",
          "name": "stdout",
          "text": [
            "1/1 [==============================] - 0s 22ms/step\n"
          ]
        },
        {
          "output_type": "execute_result",
          "data": {
            "text/plain": [
              "array(['index_13', 'index_14'], dtype='<U8')"
            ]
          },
          "metadata": {},
          "execution_count": 38
        }
      ]
    },
    {
      "cell_type": "markdown",
      "source": [
        "#### Calculate Top N Score"
      ],
      "metadata": {
        "id": "TAZnzH_k6qxq"
      }
    },
    {
      "cell_type": "markdown",
      "source": [
        "##### Calculator Functions"
      ],
      "metadata": {
        "id": "Xw0pkRQO6vQn"
      }
    },
    {
      "cell_type": "code",
      "source": [
        "def calculate_top1_score(model, imgs, y):\n",
        "  correct = 0\n",
        "  for idx, img in enumerate(imgs):\n",
        "    pred_class = predict_img(model, img)\n",
        "    pred_val = int(pred_class.split(\"_\")[1])\n",
        "    if pred_val == y[idx]:\n",
        "      correct = correct + 1\n",
        "  return correct / len(imgs)"
      ],
      "metadata": {
        "id": "r7BXKgtd6tFJ"
      },
      "execution_count": 39,
      "outputs": []
    },
    {
      "cell_type": "code",
      "source": [
        "def calculate_top_n_score(model, imgs, y, n):\n",
        "  correct = 0\n",
        "  for idx, img in enumerate(imgs):\n",
        "    top_n = predict_img_slice(model, img, n)\n",
        "    top_n_val = list(map(lambda v: int(v.split(\"_\")[1]), top_n))\n",
        "    if y[idx] in top_n_val:\n",
        "      correct = correct + 1\n",
        "  return correct / len(imgs)"
      ],
      "metadata": {
        "id": "GHyVbdKw6tvf"
      },
      "execution_count": 40,
      "outputs": []
    },
    {
      "cell_type": "markdown",
      "source": [
        "##### Benchmarks"
      ],
      "metadata": {
        "id": "ZkX0qQQx7FSs"
      }
    },
    {
      "cell_type": "code",
      "source": [
        "top1_score = calculate_top1_score(resnet_model, test_X_imgs, test_y)"
      ],
      "metadata": {
        "id": "zdpZhPIQ7I0P"
      },
      "execution_count": null,
      "outputs": []
    },
    {
      "cell_type": "code",
      "source": [
        "top2_score = calculate_top_n_score(resnet_model, test_X_imgs, test_y, 2)"
      ],
      "metadata": {
        "id": "X1HdVEff7Log"
      },
      "execution_count": null,
      "outputs": []
    },
    {
      "cell_type": "code",
      "source": [
        "top3_score = calculate_top_n_score(resnet_model, test_X_imgs, test_y, 3)"
      ],
      "metadata": {
        "id": "w4kD8w9a7ODQ"
      },
      "execution_count": null,
      "outputs": []
    },
    {
      "cell_type": "code",
      "source": [
        "top5_score = calculate_top_n_score(resnet_model, test_X_imgs, test_y, 5)"
      ],
      "metadata": {
        "id": "bcPk7D9A7Pt4"
      },
      "execution_count": null,
      "outputs": []
    },
    {
      "cell_type": "markdown",
      "source": [
        "##### Results"
      ],
      "metadata": {
        "id": "P7msalH87S-Q"
      }
    },
    {
      "cell_type": "code",
      "source": [
        "print(\"top1 score:\", top1_score)\n",
        "print(\"top2 score:\", top2_score)\n",
        "print(\"top3 score:\", top3_score)\n",
        "print(\"top5 score:\", top5_score)"
      ],
      "metadata": {
        "colab": {
          "base_uri": "https://localhost:8080/",
          "height": 0
        },
        "id": "mmjcigUI7Ucg",
        "outputId": "f7831f51-0236-4993-8a0b-415c5d53d4f6"
      },
      "execution_count": 45,
      "outputs": [
        {
          "output_type": "stream",
          "name": "stdout",
          "text": [
            "top1 score: 0.3305227655986509\n",
            "top2 score: 0.524451939291737\n",
            "top3 score: 0.6492411467116358\n",
            "top5 score: 0.8296795952782462\n"
          ]
        }
      ]
    },
    {
      "cell_type": "markdown",
      "source": [
        "# Pre-processing"
      ],
      "metadata": {
        "id": "OzhlikmOx0Lx"
      }
    },
    {
      "cell_type": "markdown",
      "source": [
        "## Convert dataset Matlab (.mat) to NumPy (.npy)"
      ],
      "metadata": {
        "id": "M12nxZksyYwq"
      }
    },
    {
      "cell_type": "markdown",
      "source": [
        "### Move development dataset to Colab (VM) workspace from Google Drive"
      ],
      "metadata": {
        "id": "qP0yQ1cI0r5A"
      }
    },
    {
      "cell_type": "code",
      "source": [
        "!cp /content/drive/MyDrive/ece528/development_dataset /content/development_dataset"
      ],
      "metadata": {
        "id": "Mr8HA4650rVn"
      },
      "execution_count": null,
      "outputs": []
    },
    {
      "cell_type": "markdown",
      "source": [
        "### Import Libraries"
      ],
      "metadata": {
        "id": "M-AGryYuyEk6"
      }
    },
    {
      "cell_type": "code",
      "source": [
        "import os\n",
        "import numpy as np\n",
        "import pandas as pd\n",
        "import scipy.io as scipyio\n",
        "from scipy.io import loadmat"
      ],
      "metadata": {
        "id": "rYD2P02UyDjN"
      },
      "execution_count": null,
      "outputs": []
    },
    {
      "cell_type": "markdown",
      "source": [
        "### Path Variable"
      ],
      "metadata": {
        "id": "jdkjhFvB8Qak"
      }
    },
    {
      "cell_type": "code",
      "source": [
        "src_path = r\"/content/development_dataset\""
      ],
      "metadata": {
        "id": "E7nUR1yX8T8-"
      },
      "execution_count": null,
      "outputs": []
    },
    {
      "cell_type": "markdown",
      "source": [
        "### Convertion Functions"
      ],
      "metadata": {
        "id": "h78-ApOYymBX"
      }
    },
    {
      "cell_type": "code",
      "source": [
        "def get_csv_name(fullname):\n",
        "  return fullname.split(\"_\")[-1].replace(\".csv\", \"\")"
      ],
      "metadata": {
        "id": "ddKffNC1x1hN"
      },
      "execution_count": null,
      "outputs": []
    },
    {
      "cell_type": "code",
      "source": [
        "def mat_to_np(mat_path):\n",
        "  # print(mat_path) #debug \n",
        "  return loadmat(mat_path)[\"data\"]"
      ],
      "metadata": {
        "id": "4NTtslbjx6zU"
      },
      "execution_count": null,
      "outputs": []
    },
    {
      "cell_type": "code",
      "source": [
        "def read_entire_csv(src_path, file_path, x_label=\"unit1_lidar_1\", y_label=\"beam_index_1\"):\n",
        "  # desired format = name, X, y\n",
        "  csv_path = os.path.join(src_path, file_path)\n",
        "  name = get_csv_name(csv_path)\n",
        "  df = pd.read_csv(csv_path)\n",
        "  x_paths = df[x_label].values\n",
        "  y = df[y_label].values  \n",
        "  X = np.array(list(map(lambda x_path: mat_to_np(os.path.join(src_path, x_path)) , x_paths)))\n",
        "  return np.array([name, X, y])"
      ],
      "metadata": {
        "id": "EeQiH5Iyx73g"
      },
      "execution_count": null,
      "outputs": []
    },
    {
      "cell_type": "code",
      "source": [
        "def load_data_from_csv(path):\n",
        "  csv_file_list = [file for file in os.listdir(path) if file.endswith('csv')]\n",
        "  return np.array(list(map(lambda csv_file_path: read_entire_csv(path, csv_file_path), csv_file_list)))"
      ],
      "metadata": {
        "id": "h5GRKWhdx-O5"
      },
      "execution_count": null,
      "outputs": []
    },
    {
      "cell_type": "code",
      "source": [
        "def sort_by_angle(nparray):\n",
        "  return np.array(list(map(lambda cur: cur[cur[:, 1].argsort()], nparray)))"
      ],
      "metadata": {
        "id": "uGH8mV70x_yo"
      },
      "execution_count": null,
      "outputs": []
    },
    {
      "cell_type": "code",
      "source": [
        "# Convert dataset and save as npy\n",
        "dataset = load_data_from_csv(src_path)\n",
        "np.save('dataset_np', dataset)"
      ],
      "metadata": {
        "id": "9nv3Z-seyCDE"
      },
      "execution_count": null,
      "outputs": []
    },
    {
      "cell_type": "markdown",
      "source": [
        "## Convert NumPy Dataset to Image Dataset"
      ],
      "metadata": {
        "id": "iLTKIM9tyrLf"
      }
    },
    {
      "cell_type": "markdown",
      "source": [
        "### Import Libraries"
      ],
      "metadata": {
        "id": "NaVNPnhrzDqU"
      }
    },
    {
      "cell_type": "code",
      "source": [
        "import os\n",
        "import numpy as np\n",
        "import pandas as pd\n",
        "import scipy.io as scipyio\n",
        "import matplotlib.pyplot as plt\n",
        "from scipy.io import loadmat\n",
        "from PIL import Image\n",
        "from keras import utils"
      ],
      "metadata": {
        "id": "CDgjlb4WzCER"
      },
      "execution_count": null,
      "outputs": []
    },
    {
      "cell_type": "markdown",
      "source": [
        "### Load npy dataset"
      ],
      "metadata": {
        "id": "qzx8P6uQzX0z"
      }
    },
    {
      "cell_type": "code",
      "source": [
        "# Load npy dataset\n",
        "dataset = np.load(dataset_path, allow_pickle=True)"
      ],
      "metadata": {
        "id": "aWNjPIqdyxhN"
      },
      "execution_count": null,
      "outputs": []
    },
    {
      "cell_type": "code",
      "source": [
        "# dataset \n",
        "test, train, valid = dataset \n",
        "_, test_X, test_y = test \n",
        "_, train_X, train_y = train \n",
        "_, valid_X, valid_y = valid"
      ],
      "metadata": {
        "id": "Ikhgr-2TzBh9"
      },
      "execution_count": null,
      "outputs": []
    },
    {
      "cell_type": "markdown",
      "source": [
        "### Convertion Functions"
      ],
      "metadata": {
        "id": "MA6LqB_9zIcd"
      }
    },
    {
      "cell_type": "code",
      "source": [
        "target_dir = r\"/content/lidar_dataset\""
      ],
      "metadata": {
        "id": "1MnMYdehzVTt"
      },
      "execution_count": null,
      "outputs": []
    },
    {
      "cell_type": "code",
      "source": [
        "def create_dir(target, name):\n",
        "  path_dir = os.path.join(target, name)\n",
        "  if not os.path.exists(path_dir):\n",
        "    os.makedirs(path_dir)\n",
        "  return path_dir"
      ],
      "metadata": {
        "id": "b-CXaB9IzerD"
      },
      "execution_count": null,
      "outputs": []
    },
    {
      "cell_type": "code",
      "source": [
        "def get_index_name(y):\n",
        "  return f\"index_{y}\""
      ],
      "metadata": {
        "id": "nmgdDkN9zfyp"
      },
      "execution_count": null,
      "outputs": []
    },
    {
      "cell_type": "code",
      "source": [
        "for i in range(len(train_X)):\n",
        "  print(f\"current index (train): {i}\")\n",
        "  convert_and_save(train_X[i], train_y[i], target_dir, \"train\", i)\n",
        "\n",
        "for i in range(len(valid_X)):\n",
        "  print(f\"current index (valid): {i}\")\n",
        "  convert_and_save(valid_X[i], valid_y[i], target_dir, \"valid\", i)"
      ],
      "metadata": {
        "id": "mrngtBYizo2W"
      },
      "execution_count": null,
      "outputs": []
    },
    {
      "cell_type": "code",
      "source": [
        "# Debug\n",
        "os.listdir(target_dir)"
      ],
      "metadata": {
        "id": "N1Noy5meziR9"
      },
      "execution_count": null,
      "outputs": []
    },
    {
      "cell_type": "markdown",
      "source": [
        "#### Zip Image Dataset and Copy to Google Drive"
      ],
      "metadata": {
        "id": "7wVUXGRxz6ty"
      }
    },
    {
      "cell_type": "code",
      "source": [
        "!zip -r /content/lidar_dataset.zip /content/lidar_dataset/"
      ],
      "metadata": {
        "id": "vy5CLokoz9UL"
      },
      "execution_count": null,
      "outputs": []
    },
    {
      "cell_type": "code",
      "source": [
        "!cp /content/lidar_dataset.zip /content/drive/MyDrive/ece528/lidar_dataset.zip"
      ],
      "metadata": {
        "id": "uRRoBHHr0EAm"
      },
      "execution_count": null,
      "outputs": []
    }
  ]
}